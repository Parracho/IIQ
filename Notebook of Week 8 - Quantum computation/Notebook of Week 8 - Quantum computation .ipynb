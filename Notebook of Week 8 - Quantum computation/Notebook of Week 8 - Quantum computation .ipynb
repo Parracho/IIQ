{
 "cells": [
  {
   "cell_type": "markdown",
   "metadata": {},
   "source": [
    "#  Week 8-  Quantum computation <a class=\"tocSkip\">\n",
    "    (c) Ariel Guerreiro 2023"
   ]
  },
  {
   "cell_type": "markdown",
   "metadata": {},
   "source": [
    "Quantum computation is an exciting field that explores the use of quantum mechanical phenomena to perform computation. It promises to revolutionize the way we think about computing, offering the potential to solve problems beyond the reach of classical computers. Quantum computing is based on the principles of superposition and entanglement, which enable the qubits (quantum bits) to represent multiple states simultaneously. This allows quantum computers to perform computations much faster than classical computers.\n",
    "\n",
    "In this notebook, we will introduce the Deutsch-Jozsa algorithm, Quantum Fourier Transform, Quantum phase estimation, Amplitude Estimation, and Solving a system of linear equations. These are some of the most important quantum algorithms that have been developed to date, and they demonstrate the power and potential of quantum computing. We will use Qiskit to implement and simulate these algorithms and explore their behavior on both simulated and real quantum hardware. This exercise will provide a practical introduction to quantum computing and showcase some of the capabilities of Qiskit as a powerful tool for quantum algorithm design and simulation."
   ]
  },
  {
   "cell_type": "markdown",
   "metadata": {},
   "source": [
    "# Before we start... <a class=\"tocSkip\">\n",
    " \n",
    "  Let us begin by runnning the initialization cell\n",
    "    \n",
    "$$\n",
    "\\def\\ket#1{\\left|#1\\right\\rangle }%\n",
    "\\def\\bra#1{\\left\\langle #1\\right|}%\n",
    "\\def\\braket#1#2{\\langle#1|#2\\rangle}%\n",
    "$$\n",
    "   "
   ]
  },
  {
   "cell_type": "code",
   "execution_count": 17,
   "metadata": {},
   "outputs": [],
   "source": [
    "import numpy as np\n",
    "import math as mt\n",
    "import scipy as sp\n",
    "import matplotlib.pyplot as plt\n",
    "import random\n",
    "import re             # regular expressions module\n",
    "\n",
    "from pylab import plot\n",
    "from qiskit import *\n",
    "from qiskit.visualization import *\n",
    "\n",
    "# importing Qiskit\n",
    "from qiskit import Aer\n",
    "from qiskit import QuantumCircuit, ClassicalRegister, QuantumRegister, execute\n",
    "\n",
    "\n",
    "\n",
    "\n",
    "\n",
    "\n",
    "%matplotlib inline\n",
    "#%config InlineBackend.figure_format = 'svg' # Makes the images fit\n",
    "#import qiskit.tools.jupyter\n",
    "#%qiskit_version_table\n",
    "#%qiskit_copyright\n"
   ]
  },
  {
   "cell_type": "markdown",
   "metadata": {},
   "source": [
    "# Deutsch-Jozsa algorithm: an example of a superperformant quantum algorithm\n",
    "\n",
    " \n",
    "\n",
    "The Deutsch-Jozsa algorithm [1], was the first example of a quantum algorithm that outperforms the best classical algorithm, thus demonstrating that there can be advantages of a quantum computer over conventional classical computers.\n",
    "\n",
    "To explain this algorithm, we start with an early and simpler algorithm: the Deutsch algorithm.\n",
    "\n",
    "## The Deutsch algorithm\n",
    "\n",
    "Assume we are given an unknown function $f$. By this we imply that we can utilize the function $f$, however we don't have the foggiest idea what is the mapping produced by it between the elements of domain and the possible images. Such function is usually refered as an oracle. In this context, an oracle  is simply an operation that has some property that you don't know, and are trying to find out. The term \"black box\" is used equivalently, to convey the idea that it's just a box that you can't see inside, and hence you don't know what it's doing. All you know is that you can supply inputs and receive outputs.\n",
    "\n",
    "In particular, we consider a simple function that maps the input data data, either $0$ or $1$, into either $0$ or $1$. Accordingly, when we feed $f$ the data sources $0$ and $1$, the function will be describable by a combination  of the four after potential outcomes:\n",
    "$$f(0)=0\\ or\\ f(0)=1$$\n",
    "$$f(1)=0\\ or\\ f(1)=1$$\n",
    "\n",
    "In light of these potential outcomes, we can say that $f$ is either a \"balanced\" or \"constant\" function. \n",
    "A \"balanced\" function implies that $f$ yields as many 0's as 1's, e.g. \n",
    "$$f(0) → 1 $$\n",
    "$$f(1) → 0.$$ \n",
    "On the other hand, a constant function yield either all 0's or all 1's, e.g. \n",
    "$$f(0) → 1 $$\n",
    "$$f(1) → 0.$$ \n",
    "So at that point, given this baffling function $f$, what is the minimum number of necessary to decide if it is \"balanced\" or \"constant\" function? \n",
    "\n",
    "Indeed, we should addopy a classical approach. Since we can just work with classical bits, suppose we feed the function a 0, and we get back a 1. So now we know that $f(0) → 1$. However, in light of this result, could  we infer the result for f(1), or in other words to determine wether $f$ is \"balanced\" or \"constant\"? The appropriate response is no. The data we got from applying the function $f$ is insufficient to decide wether it is a \"balanced\" or \"constant\" function. \n",
    "\n",
    "In the event that we get $f(1) → 1$, we conclude that $f$ is \"constant\", while in the event that we get $f(1) → 0$, we will presume that it is \"balanced\". In this way, we need to compute the function $f$ twice to chracterize it.\n",
    "\n",
    "The code used in a classical computer to implement the classicla characterization algorithm would look something like this:"
   ]
  },
  {
   "cell_type": "code",
   "execution_count": null,
   "metadata": {},
   "outputs": [],
   "source": [
    "def blackbox_f():\n",
    "    def F1(x):\n",
    "        return 0\n",
    "    def F2(x):\n",
    "        return 1\n",
    "    def F3(x):\n",
    "        return x%2\n",
    "    def F4(x):\n",
    "        return (x+1)%2\n",
    "        \n",
    "    functions = [F1,F2,F3,F4]\n",
    "    r = int (mt.floor(4 * np.random.rand()))\n",
    "    \n",
    "    f = functions[r]\n",
    "    return f\n",
    "    \n",
    "F = blackbox_f()\n",
    "\n",
    "print('f(0): ', F(0))\n",
    "print('f(1): ', F(1))\n",
    "\n",
    "if (F(0)==F(1)):\n",
    "    print('Conclusion: f is constant.')\n",
    "else:\n",
    "    print('Conclusion: f is balanced.')"
   ]
  },
  {
   "attachments": {},
   "cell_type": "markdown",
   "metadata": {},
   "source": [
    "When we consider the quantum equivalent of this problem, we notice that $f$ cannot be defined in the same way. While the classical version of $f$ converted classical bits into bits, the quantum counterpart converts a state of a qubit into the state of a qubit, following an unitary transformation.\n",
    "\n",
    "Just to show how things fail when we try to carry a classical function to a quantum computer, we take a naif approach and define a quantum transformation that in some way attempts to extend the previous classical function to work on a qubit. The idea is to define a linear transformation that maps the states $|0\\rangle$ and $|1\\rangle$ into $|0\\rangle$ and $|1\\rangle$, just like its classical counterpart. Now, consider what would happen if we sent in a qubit in a superposition state between $|0\\rangle$ and $|1\\rangle$. For a constant $f$ we would get\n",
    "$$\n",
    "f\\left(\\frac{|0\\rangle + |1\\rangle}{\\sqrt{2}}\\right)= \\frac{f(|0\\rangle) + f(|1\\rangle)}{\\sqrt{2}}=\\frac{|1\\rangle + |1\\rangle}{\\sqrt{2}}= \\frac{2}{\\sqrt{2}}|1\\rangle,\n",
    "$$\n",
    "which is clearly non-unitary.  \n",
    "\n",
    "To do this, we will describe the quantum operation $g$, which will integrate our classical function f in such a way that we still have a unit operator. We define $g$ following the ansatz\n",
    "$$\n",
    "g\\left(|q_1\\rangle \\otimes |q_2\\rangle\\right)= |q_1\\rangle \\otimes |q_1 \\oplus f(q_2) \\rangle\n",
    "$$\n",
    "Let us explain this definition. \n",
    "First, we notice that instead of working with a single qubit we are using two, this is why the domain of the quantum operation is a two register state $|q_1\\rangle \\otimes |q_2\\rangle$.\n",
    "Second, the symbol $\\oplus$ means addition modulo 2, defined as\n",
    "$$\n",
    "0 \\oplus 0 = 0\\\\ 0 \\oplus 1 = 1\\\\ 1 \\oplus 0 = 1\\\\ 1 \\oplus 1 = 0.\n",
    "$$\n",
    "For the elements of the computational basis of the two input registers the quantum operation $g$ produces the following map\n",
    "$$\n",
    "g\\left(|0\\rangle \\otimes |0\\rangle\\right)= |0\\rangle \\otimes |0 \\rangle \\\\\n",
    "g\\left(|0\\rangle \\otimes |1\\rangle\\right)= |0\\rangle \\otimes |1 \\rangle \\\\\n",
    "g\\left(|1\\rangle \\otimes |0\\rangle\\right)= |0\\rangle \\otimes |1 \\rangle \\\\\n",
    "g\\left(|1\\rangle \\otimes |1\\rangle\\right)= |0\\rangle \\otimes |0 \\rangle \n",
    "$$\n",
    "This operation sort of resembles our characterization $f$ in the sense that, if the two input qubits are identical, the second qubit of the output state is 0, and if they distinct the the second qubit of the output state is 1. \n",
    "\n",
    "This is precisely the key behind the equivalence between the quantum operation $g$ and the classical function $f$, say:\n",
    "$$\n",
    "f(0,1)\\rightarrow (0,1):\\\\\n",
    "g(|00\\rangle) \\rightarrow |00\\rangle\\\\\n",
    "g(|01\\rangle) \\rightarrow |01\\rangle\\\\\n",
    "g(|10\\rangle) \\rightarrow |11\\rangle\\\\\n",
    "g(|11\\rangle) \\rightarrow |10\\rangle\\\\\n",
    "$$\n",
    "$$\n",
    "    f(0,1)\\rightarrow (1,0):\\\\\n",
    "g(|00\\rangle) \\rightarrow |01\\rangle\\\\\n",
    "g(|01\\rangle) \\rightarrow |00\\rangle\\\\\n",
    "g(|10\\rangle) \\rightarrow |10\\rangle\\\\\n",
    "g(|11\\rangle) \\rightarrow |11\\rangle\\\\\n",
    "$$\n",
    "$$\n",
    "    f(0,1)\\rightarrow (0,0):\\\\\n",
    "g(|00\\rangle) \\rightarrow |00\\rangle\\\\\n",
    "g(|01\\rangle) \\rightarrow |01\\rangle\\\\\n",
    "g(|10\\rangle) \\rightarrow |10\\rangle\\\\\n",
    "g(|11\\rangle) \\rightarrow |11\\rangle\\\\\n",
    "$$\n",
    "$$\n",
    "    f(0,1)\\rightarrow (1,1):\\\\\n",
    "g(|00\\rangle) \\rightarrow |01\\rangle\\\\\n",
    "g(|01\\rangle) \\rightarrow |00\\rangle\\\\\n",
    "g(|10\\rangle) \\rightarrow |11\\rangle\\\\\n",
    "g(|11\\rangle) \\rightarrow |10\\rangle\\\\\n",
    "$$\n",
    "\n",
    "Notice that this operation $g$ is able to handle a superposition\n",
    "$$\n",
    "g\\left(|0\\rangle \\otimes \\frac{|0\\rangle + |1\\rangle}{\\sqrt{2}}\\right)= \\frac{g(|0\\rangle \\otimes|0\\rangle) + g(|0\\rangle \\otimes|1\\rangle)}{\\sqrt{2}}=\\frac{1}{\\sqrt{2}}\\left(|0\\rangle \\otimes |1\\rangle   + |0\\rangle \\otimes |0\\rangle\\right) ,\n",
    "$$\n",
    "\n",
    "So let us look how the equivalent quantum circuit would work."
   ]
  },
  {
   "cell_type": "code",
   "execution_count": 195,
   "metadata": {},
   "outputs": [
    {
     "name": "stdout",
     "output_type": "stream",
     "text": [
      "Initial state:\t (0.7071067811865475+0j)  |00> (0.7071067811865475+0j)  |01> 0  |10> 0  |11>\n",
      "Final state:\t 0j  |00> (0.7071067811865476+0j)  |01> (0.7071067811865475+0j)  |10> 0j  |11>\n"
     ]
    }
   ],
   "source": [
    "def blackbox_g(qc, q_reg):\n",
    "    f_type=['f(0,1)->(0,1)','f(0,1)->(1,0)','f(0,1)->(0,0)','f(0,1)->(1,1)']\n",
    "    \n",
    "    r = int (mt.floor(4 * np.random.rand()))\n",
    "    \n",
    "    if r==0: \n",
    "        qc.cx(q_reg[0],q_reg[1])\n",
    "    if r==1:\n",
    "        qc.x(q_reg[0])\n",
    "        qc.cx(q_reg[0],q_reg[1])\n",
    "        qc.x(q_reg[0])\n",
    "    if r==2:\n",
    "        qc.id(q_reg[0])\n",
    "        qc.id(q_reg[1])\n",
    "    if r==3:\n",
    "        qc.x(q_reg[1])\n",
    " \n",
    "    return f_type[r]\n",
    "\n",
    "# Initializing a two-qubit quantum state #00 and 01\n",
    "initial_state = [\n",
    "    1/mt.sqrt(2)+0.j,\n",
    "    1/mt.sqrt(2)+0.j,\n",
    "    0,\n",
    "    0]\n",
    "\n",
    "# Create a Quantum Circuit acting on a quantum register of 1 qubits and 2 bits\n",
    "q = QuantumRegister(2, name = 'q')\n",
    "circuit0 = QuantumCircuit(q,name='qc')\n",
    "# Create the superposition state to show that things are working\n",
    "circuit0.initialize(initial_state, [q[0],q[1]])\n",
    "\n",
    "\n",
    "#Apply g (which is equivalent to f)\n",
    "f = blackbox_g(circuit0, q)\n",
    "\n",
    "simulator = BasicAer.get_backend('statevector_simulator') # the device to run on\n",
    "result = execute(circuit0, simulator).result()\n",
    "final_state = result.get_statevector(circuit0, decimals=16)\n",
    "\n",
    "print('Initial state:\\t', initial_state[0],' |00>',initial_state[1],' |01>',initial_state[2],' |10>',initial_state[3],' |11>')\n",
    "print('Final state:\\t', final_state[0],' |00>',final_state[1],' |01>',final_state[2],' |10>',final_state[3],' |11>')\n"
   ]
  },
  {
   "cell_type": "markdown",
   "metadata": {},
   "source": [
    "## Deutsch-Jozsa algorithm (n-bit extension)\n",
    "\n",
    "The Deutsch-Jozsa problem is an $n$-bit extension of the single bit Deutsch problem where are given a hidden function $f$, which takes as input vector of bits, and returns either $0$ or $1$, such that\n",
    "$$\n",
    "f(\\{x_0,x_1,x_2,...\\}) \\rightarrow 0 \\textrm{ or } 1 \\textrm{ , where } x_n \\textrm{ is } 0 \\textrm{ or } 1$$\n",
    "Again, this function is guaranteed to either be balanced or constant. A constant function returns all $0$'s or all $1$'s for any input, while a balanced function returns $0$'s for exactly half of all inputs and $1$'s for the other half. Our task is to determine whether the given function is balanced or constant. \n",
    "\n",
    "\n",
    "Also and classicaly, in the best case two queries two queries are sufficient to determine whether the hidden Boolean function, $f(x)$, is balanced. For example, if we test $f(0,0,0,...)\\rightarrow 0$ and $f(1,0,0,...) \\rightarrow 1$ in the two queries, then we know the function is balanced as we have obtained the two different outputs.  \n",
    "\n",
    "In the worst case, if we continue to see the same output for each input we try, we will have to check exactly half of all possible inputs plus one in order to be certain that $f(x)$ is constant. Since the total number of possible inputs is $2^n$, this implies that we need $2^{n-1}+1$ trial inputs to be certain that $f(x)$ is constant in the worst case. For example, for a $4$-bit string, if we checked $8$ out of the $16$ possible combinations, getting all $0$'s, it is still possible that the $9^\\textrm{th}$ input returns a $1$ and $f(x)$ is balanced. Probabilistically, this is a very unlikely event. In fact, if we get the same result continually in succession, we can express the probability that the function is constant as a function of $k$ inputs as:\n",
    "\n",
    "$$ P_\\textrm{constant}(k) = 1 - \\frac{1}{2^{k-1}} \\qquad \\textrm{for } k \\leq 2^{n-1}$$\n",
    "\n",
    "Realistically, we could opt to truncate our classical algorithm early, say if we were over x% confident. But if we want to be 100% confident, we would need to check $2^{n-1}+1$ inputs."
   ]
  },
  {
   "attachments": {},
   "cell_type": "markdown",
   "metadata": {},
   "source": [
    "Using a quantum computer, we can solve this problem with 100% confidence after only one call to the function $f(x)$, provided we have the function $f$ implemented as a quantum oracle, which maps the state $\\vert x\\rangle \\vert y\\rangle $ to $ \\vert x\\rangle \\vert y \\oplus f(x)\\rangle$, where $\\oplus$ is addition modulo $2$. \n",
    "\n",
    "Now, let's go through the steps of the Deutsch algorithm but now with a twist, thus generalizing it to a n-bit problem:\n",
    "\n"
   ]
  },
  {
   "attachments": {},
   "cell_type": "markdown",
   "metadata": {},
   "source": [
    "\n",
    "Prepare a quantum register with $n+1$ qubits. The first $n$ qubits are initialised to $|0\\rangle$, while the last qubit register is initialised to $|1\\rangle$:\n",
    "\n",
    "     \n",
    "\n",
    "$$\\vert \\psi_0 \\rangle = \\vert x \\rangle \\otimes \\vert 1 \\rangle =\\vert 0 \\rangle^{\\otimes n} \\otimes \\vert 1 \\rangle$$\n",
    "with $\\vert x \\rangle= \\vert 0 \\rangle^{\\otimes n} $.\n",
    "\n"
   ]
  },
  {
   "cell_type": "code",
   "execution_count": 256,
   "metadata": {},
   "outputs": [
    {
     "data": {
      "text/plain": [
       "<qiskit.circuit.instructionset.InstructionSet at 0x7f9c3669d960>"
      ]
     },
     "execution_count": 256,
     "metadata": {},
     "output_type": "execute_result"
    }
   ],
   "source": [
    "n=4\n",
    "qc=QuantumCircuit(n+1,n)\n",
    "qc.x(n)"
   ]
  },
  {
   "attachments": {},
   "cell_type": "markdown",
   "metadata": {},
   "source": [
    "Apply a Hadamard gate to each qubit:\n",
    "        \n",
    "\n",
    "$$\\vert \\psi_1 \\rangle = \\frac{1}{\\sqrt{2^{n+1}}}\\sum_{x=0}^{2^n-1} \\vert x\\rangle \\left(|0\\rangle - |1 \\rangle \\right)$$\n",
    "\n",
    "Notice that for the qubits in the ground state we get $\\vert 0\\rangle \\rightarrow \\frac{1}{\\sqrt{2}}\\vert x\\rangle$ while for the excited state $\\vert 1\\rangle \\rightarrow\\left(|0\\rangle - |1 \\rangle \\right)$.\n"
   ]
  },
  {
   "cell_type": "code",
   "execution_count": 257,
   "metadata": {},
   "outputs": [],
   "source": [
    "for i in range(n+1):\n",
    "    qc.h(i)"
   ]
  },
  {
   "attachments": {},
   "cell_type": "markdown",
   "metadata": {},
   "source": [
    "\n",
    "Apply the quantum oracle $\\vert x\\rangle \\vert y\\rangle$ to $\\vert x\\rangle \\vert y \\oplus f(x)\\rangle$:\n",
    "        $$\n",
    "            \\begin{aligned}\n",
    "            \\lvert \\psi_2 \\rangle  \n",
    "                & = \\frac{1}{\\sqrt{2^{n+1}}}\\sum_{x=0}^{2^n-1} \\vert x\\rangle (\\vert f(x)\\rangle - \\vert 1 \\oplus f(x)\\rangle) \\\\  \n",
    "                & = \\frac{1}{\\sqrt{2^{n+1}}}\\sum_{x=0}^{2^n-1}(-1)^{f(x)}|x\\rangle ( |0\\rangle - |1\\rangle ) \n",
    "        \\end{aligned}\n",
    "        $$\n",
    "       \n",
    "since for each $x,f(x)$ is either $0$ or $1$. Again notice that this oracle is a form of generalization of the quantum operation $g$ used in the Deutsch algorithm.\n"
   ]
  },
  {
   "cell_type": "code",
   "execution_count": 258,
   "metadata": {},
   "outputs": [],
   "source": [
    "def quantum_oracle(qc,n):\n",
    "    r = int (mt.floor(2 * np.random.rand()))\n",
    "\n",
    "    if r==0: \n",
    "        for i in range(n):\n",
    "            if i%2==0:\n",
    "                qc.x(i)\n",
    "    if r==1:\n",
    "        for i in range(n):\n",
    "            qc.x(i)"
   ]
  },
  {
   "cell_type": "code",
   "execution_count": 259,
   "metadata": {},
   "outputs": [],
   "source": [
    "quantum_oracle(qc,n)"
   ]
  },
  {
   "attachments": {},
   "cell_type": "markdown",
   "metadata": {},
   "source": [
    "\n",
    "At this point the last qubit  may be ignored. Apply a Hadamard gate to each of the first n qubits:\n",
    "        $$\n",
    "        \\begin{aligned}\n",
    "            \\lvert \\psi_3 \\rangle \n",
    "                & = \\frac{1}{2^n}\\sum_{x=0}^{2^n-1}(-1)^{f(x)}\n",
    "                    \\left[ \\sum_{y=0}^{2^n-1}(-1)^{x \\cdot y} \n",
    "                    \\vert y \\rangle \\right] \\\\\n",
    "                & = \\frac{1}{2^n}\\sum_{y=0}^{2^n-1}\n",
    "                    \\left[ \\sum_{x=0}^{2^n-1}(-1)^{f(x)}(-1)^{x \\cdot y} \\right]\n",
    "                    \\vert y \\rangle\n",
    "        \\end{aligned}\n",
    "        $$\n",
    "       \n",
    "where $x \\cdot y = x_0y_0 \\oplus x_1y_1 \\oplus \\ldots \\oplus x_{n-1}y_{n-1}$ is the sum of the bitwise product.\n"
   ]
  },
  {
   "cell_type": "code",
   "execution_count": 260,
   "metadata": {},
   "outputs": [],
   "source": [
    "for i in range(n):\n",
    "    qc.h(i)"
   ]
  },
  {
   "attachments": {},
   "cell_type": "markdown",
   "metadata": {},
   "source": [
    "\n",
    "Measure the first n qubits. Notice that the probability of measuring $\\vert 0 \\rangle ^{\\otimes n} = \\lvert \\frac{1}{2^n}\\sum_{x=0}^{2^n-1}(-1)^{f(x)} \\rvert^2$, which evaluates to $1$ if $f(x)$ is constant and $0$ if $f(x)$ is balanced. \n"
   ]
  },
  {
   "cell_type": "code",
   "execution_count": 261,
   "metadata": {},
   "outputs": [],
   "source": [
    "for i in range(n):\n",
    "    qc.measure(i,i)"
   ]
  },
  {
   "cell_type": "code",
   "execution_count": 262,
   "metadata": {},
   "outputs": [
    {
     "data": {
      "image/png": "[encoded data removed]",
      "text/plain": [
       "<Figure size 700x500 with 1 Axes>"
      ]
     },
     "execution_count": 262,
     "metadata": {},
     "output_type": "execute_result"
    }
   ],
   "source": [
    "aer_sim = Aer.get_backend('aer_simulator')\n",
    "results = aer_sim.run(qc).result()\n",
    "answer = results.get_counts()\n",
    "\n",
    "plot_histogram(answer)"
   ]
  },
  {
   "attachments": {},
   "cell_type": "markdown",
   "metadata": {},
   "source": [
    "**Exercises:**\n",
    "    \n",
    "1. Develop a quantum circuit to test if the \"blackbox_g\" is working for a broad sample of states in the Hilbert space of the two qubit register.\n"
   ]
  },
  {
   "attachments": {},
   "cell_type": "markdown",
   "metadata": {},
   "source": [
    "$$\n",
    "f(0,1)\\rightarrow (0,1):\\\\\n",
    "g(|00\\rangle) \\rightarrow |00\\rangle\\\\\n",
    "g(|01\\rangle) \\rightarrow |01\\rangle\\\\\n",
    "g(|10\\rangle) \\rightarrow |11\\rangle\\\\\n",
    "g(|11\\rangle) \\rightarrow |10\\rangle\\\\\n",
    "$$\n",
    "$$\n",
    "    f(0,1)\\rightarrow (1,0):\\\\\n",
    "g(|00\\rangle) \\rightarrow |01\\rangle\\\\\n",
    "g(|01\\rangle) \\rightarrow |00\\rangle\\\\\n",
    "g(|10\\rangle) \\rightarrow |10\\rangle\\\\\n",
    "g(|11\\rangle) \\rightarrow |11\\rangle\\\\\n",
    "$$\n",
    "$$\n",
    "    f(0,1)\\rightarrow (0,0):\\\\\n",
    "g(|00\\rangle) \\rightarrow |00\\rangle\\\\\n",
    "g(|01\\rangle) \\rightarrow |01\\rangle\\\\\n",
    "g(|10\\rangle) \\rightarrow |10\\rangle\\\\\n",
    "g(|11\\rangle) \\rightarrow |11\\rangle\\\\\n",
    "$$\n",
    "$$\n",
    "    f(0,1)\\rightarrow (1,1):\\\\\n",
    "g(|00\\rangle) \\rightarrow |01\\rangle\\\\\n",
    "g(|01\\rangle) \\rightarrow |00\\rangle\\\\\n",
    "g(|10\\rangle) \\rightarrow |11\\rangle\\\\\n",
    "g(|11\\rangle) \\rightarrow |10\\rangle\\\\\n",
    "$$"
   ]
  },
  {
   "cell_type": "code",
   "execution_count": 233,
   "metadata": {},
   "outputs": [],
   "source": [
    "def confirm(i,f,f_type):\n",
    "    f_sis=['f(0,1)->(0,1)','f(0,1)->(1,0)','f(0,1)->(0,0)','f(0,1)->(1,1)']\n",
    "\n",
    "    if f_type==f_sis[0]:\n",
    "        assert(mt.isclose(i[0].real,f[0].real,abs_tol = 0.0001))\n",
    "        assert(mt.isclose(i[1].real,f[1].real,abs_tol = 0.0001))\n",
    "        assert(mt.isclose(i[2].real,f[3].real,abs_tol = 0.0001))\n",
    "        assert(mt.isclose(i[3].real,f[2].real,abs_tol = 0.0001))\n",
    "        assert(mt.isclose(i[0].imag,f[0].imag,abs_tol = 0.0001))\n",
    "        assert(mt.isclose(i[1].imag,f[1].imag,abs_tol = 0.0001))\n",
    "        assert(mt.isclose(i[2].imag,f[3].imag,abs_tol = 0.0001))\n",
    "        assert(mt.isclose(i[3].imag,f[2].imag,abs_tol = 0.0001))\n",
    "    if f_type==f_sis[1]:\n",
    "        assert(mt.isclose(i[0].real,f[1].real,abs_tol = 0.0001))\n",
    "        assert(mt.isclose(i[1].real,f[0].real,abs_tol = 0.0001))\n",
    "        assert(mt.isclose(i[2].real,f[2].real,abs_tol = 0.0001))\n",
    "        assert(mt.isclose(i[3].real,f[3].real,abs_tol = 0.0001))\n",
    "        assert(mt.isclose(i[0].imag,f[1].imag,abs_tol = 0.0001))\n",
    "        assert(mt.isclose(i[1].imag,f[0].imag,abs_tol = 0.0001))\n",
    "        assert(mt.isclose(i[2].imag,f[2].imag,abs_tol = 0.0001))\n",
    "        assert(mt.isclose(i[3].imag,f[3].imag,abs_tol = 0.0001))\n",
    "    if f_type==f_sis[2]:\n",
    "        assert(mt.isclose(i[0].real,f[0].real,abs_tol = 0.0001))\n",
    "        assert(mt.isclose(i[1].real,f[1].real,abs_tol = 0.0001))\n",
    "        assert(mt.isclose(i[2].real,f[2].real,abs_tol = 0.0001))\n",
    "        assert(mt.isclose(i[3].real,f[3].real,abs_tol = 0.0001))\n",
    "        assert(mt.isclose(i[0].imag,f[0].imag,abs_tol = 0.0001))\n",
    "        assert(mt.isclose(i[1].imag,f[1].imag,abs_tol = 0.0001))\n",
    "        assert(mt.isclose(i[2].imag,f[2].imag,abs_tol = 0.0001))\n",
    "        assert(mt.isclose(i[3].imag,f[3].imag,abs_tol = 0.0001))\n",
    "    if f_type==f_sis[3]:\n",
    "        assert(mt.isclose(i[0].real,f[1].real,abs_tol = 0.0001))\n",
    "        assert(mt.isclose(i[1].real,f[0].real,abs_tol = 0.0001))\n",
    "        assert(mt.isclose(i[2].real,f[3].real,abs_tol = 0.0001))\n",
    "        assert(mt.isclose(i[3].real,f[2].real,abs_tol = 0.0001))\n",
    "        assert(mt.isclose(i[0].imag,f[1].imag,abs_tol = 0.0001))\n",
    "        assert(mt.isclose(i[1].imag,f[0].imag,abs_tol = 0.0001))\n",
    "        assert(mt.isclose(i[2].imag,f[3].imag,abs_tol = 0.0001))\n",
    "        assert(mt.isclose(i[3].imag,f[2].imag,abs_tol = 0.0001))"
   ]
  },
  {
   "cell_type": "code",
   "execution_count": 234,
   "metadata": {},
   "outputs": [],
   "source": [
    "def circuit(initial_state,qc,q):\n",
    "    q = QuantumRegister(2, name = 'q')\n",
    "    qc = QuantumCircuit(q,name='qc')\n",
    "\n",
    "    qc.initialize(initial_state, [q[0],q[1]])\n",
    "\n",
    "    f=blackbox_g(qc,q)\n",
    "\n",
    "    simulator = BasicAer.get_backend('statevector_simulator') # the device to run on\n",
    "    result = execute(qc, simulator).result()\n",
    "    final_state = result.get_statevector(qc, decimals=16)\n",
    "    \n",
    "    #print('Initial state:\\t', initial_state[0],' |00>',initial_state[1],' |01>',initial_state[2],' |10>',initial_state[3],' |11>')\n",
    "    #print('Final state:\\t', final_state[0],' |00>',final_state[2],' |01>',final_state[1],' |10>',final_state[3],' |11>')\n",
    "    \n",
    "    confirm(initial_state,[final_state[0],final_state[2],final_state[1],final_state[3]],f)"
   ]
  },
  {
   "cell_type": "code",
   "execution_count": 235,
   "metadata": {},
   "outputs": [
    {
     "name": "stderr",
     "output_type": "stream",
     "text": [
      "100%|██████████| 10/10 [00:01<00:00,  6.84it/s]\n"
     ]
    }
   ],
   "source": [
    "theta=np.linspace(0,np.pi,10)\n",
    "phi=np.linspace(0,2*np.pi,10)\n",
    "lam=0\n",
    "from tqdm import tqdm\n",
    "\n",
    "for i in tqdm(range(len(theta))):\n",
    "    for j in range(len(phi)):\n",
    "            state=[mt.cos(theta[i]/2)**2,\n",
    "                   (mt.cos(phi[j])+1j*mt.sin(phi[j]))*mt.sin(theta[i])/2,\n",
    "                   (mt.cos(phi[j])+1j*mt.sin(phi[j]))*mt.sin(theta[i])/2,\n",
    "                   (mt.cos(2*phi[j])+1j*mt.sin(2*phi[j]))*mt.sin(theta[i]/2)**2]\n",
    "            circuit(state,qc,q)"
   ]
  },
  {
   "cell_type": "code",
   "execution_count": 236,
   "metadata": {},
   "outputs": [
    {
     "name": "stdout",
     "output_type": "stream",
     "text": [
      "It worked yay\n"
     ]
    }
   ],
   "source": [
    "print(\"It worked yay\")"
   ]
  },
  {
   "attachments": {},
   "cell_type": "markdown",
   "metadata": {},
   "source": [
    "\n",
    "2. Implement the Deutsch-Jozsa algorithm for n=1 and n=2.\n",
    "    \n"
   ]
  },
  {
   "cell_type": "code",
   "execution_count": 237,
   "metadata": {},
   "outputs": [
    {
     "data": {
      "image/png": "[encoded data removed]",
      "text/plain": [
       "<Figure size 700x500 with 1 Axes>"
      ]
     },
     "execution_count": 237,
     "metadata": {},
     "output_type": "execute_result"
    }
   ],
   "source": [
    "n=1\n",
    "\n",
    "qc=QuantumCircuit(n+1,n)\n",
    "qc.x(n)\n",
    "for i in range(n+1):\n",
    "    qc.h(i)\n",
    "\n",
    "quantum_oracle(qc,n)\n",
    "for i in range(n):\n",
    "    qc.h(i)\n",
    "for i in range(n):\n",
    "    qc.measure(i,i)\n",
    "aer_sim = Aer.get_backend('aer_simulator')\n",
    "results = aer_sim.run(qc).result()\n",
    "answer = results.get_counts()\n",
    "\n",
    "plot_histogram(answer)"
   ]
  },
  {
   "cell_type": "code",
   "execution_count": 238,
   "metadata": {},
   "outputs": [
    {
     "data": {
      "image/png": "[encoded data removed]",
      "text/plain": [
       "<Figure size 700x500 with 1 Axes>"
      ]
     },
     "execution_count": 238,
     "metadata": {},
     "output_type": "execute_result"
    }
   ],
   "source": [
    "n=2\n",
    "\n",
    "qc=QuantumCircuit(n+1,n)\n",
    "qc.x(n)\n",
    "for i in range(n+1):\n",
    "    qc.h(i)\n",
    "\n",
    "quantum_oracle(qc,n)\n",
    "\n",
    "for i in range(n):\n",
    "    qc.h(i)\n",
    "    \n",
    "for i in range(n):\n",
    "    qc.measure(i,i)\n",
    "aer_sim = Aer.get_backend('aer_simulator')\n",
    "results = aer_sim.run(qc).result()\n",
    "answer = results.get_counts()\n",
    "\n",
    "plot_histogram(answer)"
   ]
  },
  {
   "attachments": {},
   "cell_type": "markdown",
   "metadata": {},
   "source": [
    "### Advanced exercises <a class=\"tocSkip\">\n",
    "3. Implement the Deutsch-Jozsa algorithm for a general n.\n",
    "    \n"
   ]
  },
  {
   "cell_type": "code",
   "execution_count": 255,
   "metadata": {},
   "outputs": [
    {
     "data": {
      "image/png": "[encoded data removed]",
      "text/plain": [
       "<Figure size 700x500 with 1 Axes>"
      ]
     },
     "execution_count": 255,
     "metadata": {},
     "output_type": "execute_result"
    }
   ],
   "source": [
    "n=4\n",
    "\n",
    "qc=QuantumCircuit(n+1,n)\n",
    "qc.x(n)\n",
    "for i in range(n+1):\n",
    "    qc.h(i)\n",
    "\n",
    "quantum_oracle(qc,n)\n",
    "\n",
    "for i in range(n):\n",
    "    qc.h(i)\n",
    "\n",
    "for i in range(n):\n",
    "    qc.measure(i,i)\n",
    "    \n",
    "aer_sim = Aer.get_backend('aer_simulator')\n",
    "results = aer_sim.run(qc).result()\n",
    "answer = results.get_counts()\n",
    "\n",
    "plot_histogram(answer)"
   ]
  },
  {
   "cell_type": "markdown",
   "metadata": {},
   "source": [
    "4. Run the algorithm in IBM computer. So, do you not have a perfect oracle?"
   ]
  },
  {
   "cell_type": "code",
   "execution_count": null,
   "metadata": {},
   "outputs": [],
   "source": []
  },
  {
   "cell_type": "markdown",
   "metadata": {},
   "source": [
    "<div class=\"alert alert-success\">\n",
    "<b>Today's afterthoughts:</b>\n",
    "Are you motivated to learn quantum computing? Why?\n",
    "</div>\n",
    "\n",
    "\n",
    "  \n",
    "\n"
   ]
  },
  {
   "cell_type": "code",
   "execution_count": null,
   "metadata": {},
   "outputs": [],
   "source": []
  }
 ],
 "metadata": {
  "author": "A. Guerreiro",
  "hide_input": false,
  "kernelspec": {
   "display_name": "Python 3 (ipykernel)",
   "language": "python",
   "name": "python3"
  },
  "language_info": {
   "codemirror_mode": {
    "name": "ipython",
    "version": 3
   },
   "file_extension": ".py",
   "mimetype": "text/x-python",
   "name": "python",
   "nbconvert_exporter": "python",
   "pygments_lexer": "ipython3",
   "version": "3.10.9"
  },
  "latex_envs": {
   "LaTeX_envs_menu_present": false,
   "autoclose": false,
   "autocomplete": true,
   "bibliofile": "biblio.bib",
   "cite_by": "apalike",
   "current_citInitial": 1,
   "eqLabelWithNumbers": true,
   "eqNumInitial": 1,
   "hotkeys": {
    "equation": "Ctrl-E",
    "itemize": "Ctrl-I"
   },
   "labels_anchors": false,
   "latex_user_defs": false,
   "report_style_numbering": false,
   "user_envs_cfg": true
  },
  "nbTranslate": {
   "displayLangs": [
    "*"
   ],
   "hotkey": "alt-t",
   "langInMainMenu": true,
   "sourceLang": "en",
   "targetLang": "fr",
   "useGoogleTranslate": true
  },
  "toc": {
   "base_numbering": 1,
   "nav_menu": {},
   "number_sections": true,
   "sideBar": true,
   "skip_h1_title": false,
   "title_cell": "Table of Contents",
   "title_sidebar": "Contents",
   "toc_cell": false,
   "toc_position": {
    "height": "574.398px",
    "left": "845px",
    "top": "204.364px",
    "width": "307.175px"
   },
   "toc_section_display": true,
   "toc_window_display": true
  },
  "varInspector": {
   "cols": {
    "lenName": 16,
    "lenType": 16,
    "lenVar": 40
   },
   "kernels_config": {
    "python": {
     "delete_cmd_postfix": "",
     "delete_cmd_prefix": "del ",
     "library": "var_list.py",
     "varRefreshCmd": "print(var_dic_list())"
    },
    "r": {
     "delete_cmd_postfix": ") ",
     "delete_cmd_prefix": "rm(",
     "library": "var_list.r",
     "varRefreshCmd": "cat(var_dic_list()) "
    }
   },
   "types_to_exclude": [
    "module",
    "function",
    "builtin_function_or_method",
    "instance",
    "_Feature"
   ],
   "window_display": false
  }
 },
 "nbformat": 4,
 "nbformat_minor": 4
}
