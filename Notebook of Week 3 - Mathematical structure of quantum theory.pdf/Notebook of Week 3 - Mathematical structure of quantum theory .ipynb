{
 "cells": [
  {
   "cell_type": "markdown",
   "id": "735561e0",
   "metadata": {},
   "source": [
    "# Week 3 -  Mathematical structure of quantum theory <a class=\"tocSkip\">\n",
    "    (c) Ariel Guerreiro 2023"
   ]
  },
  {
   "cell_type": "markdown",
   "id": "b894f867",
   "metadata": {},
   "source": [
    "This notebook provides an introduction to quantum computing and quantum mechanics using Qiskit, an open-source quantum computing framework developed by IBM. The notebook covers basic quantum mechanics concepts such as superposition, entanglement, the uncertainty principle, and wave-particle duality, as well as quantum computing concepts such as qubits, quantum gates, quantum circuits, and quantum algorithms. The notebook also provides hands-on exercises using Qiskit to simulate and visualize quantum circuits and algorithms, including creating a quantum teleportation circuit and implementing the Grover's algorithm for searching an unstructured database. Overall, this notebook provides a solid introduction to the fundamentals of quantum computing and quantum mechanics using Qiskit, and is suitable for beginners with no prior knowledge in these areas."
   ]
  },
  {
   "cell_type": "markdown",
   "id": "35ed5dec",
   "metadata": {},
   "source": [
    "# Qiskit overview <a name='overview'></a>\n",
    "\n",
    "## What is Qiskit? <a name='what'></a>\n",
    "Qiskit is an open-source quantum computing software development kit (SDK) for building and running quantum programs. It provides tools for simulating quantum circuits, optimizing them for specific quantum hardware, and running them on real quantum devices through IBM Quantum Experience. Qiskit consists of four main components: Terra, Aer, Ignis, and Aqua.\n",
    "\n",
    "* Qiskit Terra provides the foundational tools for working with quantum circuits, including the ability to create quantum circuits, compile them to run on specific backends, and simulate their execution using a statevector or a density matrix.\n",
    "* Qiskit Aer provides high-performance simulators that can simulate the execution of quantum circuits on classical hardware. It includes a statevector simulator, a density matrix simulator, and a QASM simulator that can simulate the effects of noise on a quantum system.\n",
    "* Qiskit Ignis provides tools for mitigating the effects of noise on quantum circuits, including tools for calibrating and characterizing quantum hardware, and for implementing quantum error correction and fault-tolerant protocols.\n",
    "* Qiskit Aqua provides higher-level tools for solving problems in optimization, machine learning, and quantum chemistry using quantum computing.\n",
    "\n",
    "\n",
    "Qiskit was first released in March 2017 by IBM, and has since become one of the most widely used quantum computing SDKs. It has been used in a variety of applications, including quantum chemistry, optimization, cryptography, and more.\n",
    "\n",
    "## Current capabilities of Qiskit <a name='capabilities'></a>\n",
    "Qiskit provides a wide range of capabilities for working with quantum circuits, including:\n",
    "\n",
    "* Support for quantum circuit design, simulation, and optimization using a variety of optimization algorithms and techniques.\n",
    "* Integration with IBM Quantum Experience, which allows users to run their circuits on real quantum hardware.\n",
    "* Tools for calibrating and characterizing quantum hardware, and for implementing quantum error correction and fault-tolerant protocols.\n",
    "* Support for working with multipartite quantum registers and entangled states.\n",
    "* High-performance simulators for simulating the effects of noise on quantum circuits."
   ]
  },
  {
   "cell_type": "markdown",
   "id": "466853a3",
   "metadata": {},
   "source": [
    "## Installing Qiskit <a name='installing'></a>\n",
    "\n",
    "To use Qiskit, we first need to install it on our computer. Qiskit can be installed using pip, a package manager for Python. We recommend using a virtual environment to manage your Qiskit installation.\n",
    "\n",
    "Here are the steps to install Qiskit on Windows:\n",
    "\n",
    "1. Install Anaconda for Python 3.7 or higher from the Anaconda website: https://www.anaconda.com/products/individual\n",
    "2. Open Anaconda Prompt from the Windows Start menu.\n",
    "3. Create a new virtual environment: conda create --name myenv\n",
    "4. Activate the new environment: conda activate myenv\n",
    "5. Install Qiskit: pip install qiskit\n",
    "6. Verify the installation: python -c \"import qiskit; print(qiskit.__version__)\"\n",
    "\n",
    "To install Qiskit on macOS or Linux, the steps are similar, but you can use the terminal instead of Anaconda Prompt."
   ]
  },
  {
   "cell_type": "code",
   "execution_count": 1,
   "id": "fc1ce793",
   "metadata": {
    "ExecuteTime": {
     "end_time": "2023-02-26T12:50:40.801492Z",
     "start_time": "2023-02-26T12:50:40.180111Z"
    }
   },
   "outputs": [],
   "source": [
    "import numpy as np\n",
    "import scipy as sp\n",
    "import math as mt\n",
    "import matplotlib.pyplot as plt\n",
    "\n",
    "from qiskit import *\n",
    "from qiskit.visualization import *\n",
    "\n",
    "%matplotlib inline\n",
    "%config InlineBackend.figure_format = 'svg'\n",
    "\n"
   ]
  },
  {
   "cell_type": "markdown",
   "id": "e06984b8",
   "metadata": {
    "ExecuteTime": {
     "end_time": "2023-02-08T17:01:24.291646Z",
     "start_time": "2023-02-08T17:00:39.894891Z"
    }
   },
   "source": [
    "**EXERCISES:**\n",
    "    \n",
    "Today's exercises are about using Qiskit to simulate some very simple quantum phenomena. \n",
    "\n",
    "\n",
    "\n",
    "\n",
    "**Exercise 1:** *Superposition principle*\n",
    "\n",
    "Consider a spin-1/2 particle that can be in a superposition of spin-up and spin-down states. Create a quantum circuit using Qiskit that prepares the particle in the state $\\frac{1}{\\sqrt{2}} \\begin{pmatrix} 1 \\ i \\end{pmatrix}$."
   ]
  },
  {
   "cell_type": "markdown",
   "id": "22332f71",
   "metadata": {},
   "source": [
    "X gate: $|0\\rangle \\leftrightarrow |1\\rangle$\n",
    "\n",
    "H gate: $|0\\rangle \\leftrightarrow \\frac{1}{\\sqrt{2}}(|0\\rangle+|1\\rangle)$ and $|1\\rangle \\leftrightarrow \\frac{1}{\\sqrt{2}}(|0\\rangle-|1\\rangle)$\n",
    "\n",
    "Z gate: $|0\\rangle \\leftrightarrow |0\\rangle$ and $|1\\rangle \\leftrightarrow -|1\\rangle$"
   ]
  },
  {
   "cell_type": "markdown",
   "id": "9075373a",
   "metadata": {},
   "source": [
    "For $|0\\rangle$:\n",
    "\n",
    "$|0\\rangle \\xrightarrow{\\hat{Y}}i|1>$\n",
    "\n",
    "For $|1\\rangle$:\n",
    "\n",
    "$|1\\rangle \\xrightarrow{\\hat{Y}}-i|0>$"
   ]
  },
  {
   "attachments": {},
   "cell_type": "markdown",
   "id": "11c211e4",
   "metadata": {},
   "source": [
    "$$U(\\theta, \\phi, \\lambda) = \\begin{bmatrix} \\cos(\\frac{\\theta}{2}) & -e^{i\\lambda}\\sin(\\frac{\\theta}{2}) \\\\\n",
    "            e^{i\\phi}\\sin(\\frac{\\theta}{2}) & e^{i(\\phi+\\lambda)}\\cos(\\frac{\\theta}{2})\n",
    "     \\end{bmatrix}$$"
   ]
  },
  {
   "attachments": {},
   "cell_type": "markdown",
   "id": "2e2cf322",
   "metadata": {},
   "source": [
    "$$|\\psi\\rangle=\\frac{1}{\\sqrt{2}}(|0\\rangle+|1\\rangle)$$\n",
    "$$A|\\psi\\rangle = \\frac{1}{\\sqrt{2}}(|0\\rangle+i|1\\rangle)\\Leftrightarrow A=\\begin{pmatrix}\n",
    "1 & 0 \\\\ 0 & i\\end{pmatrix}$$\n",
    "\n"
   ]
  },
  {
   "cell_type": "code",
   "execution_count": 2,
   "id": "63d46ab7",
   "metadata": {},
   "outputs": [
    {
     "data": {
      "text/latex": [
       "$$\\frac{\\sqrt{2}}{2} |0\\rangle+\\frac{\\sqrt{2} i}{2} |1\\rangle$$"
      ],
      "text/plain": [
       "<IPython.core.display.Latex object>"
      ]
     },
     "execution_count": 2,
     "metadata": {},
     "output_type": "execute_result"
    }
   ],
   "source": [
    "from qiskit import QuantumCircuit, assemble, Aer\n",
    "from qiskit.visualization import plot_histogram, plot_bloch_vector\n",
    "from qiskit.quantum_info import Statevector\n",
    "import math\n",
    "\n",
    "state0 = Statevector.from_int(0, 2)\n",
    "state1 = Statevector.from_int(1, 2)\n",
    "state2=(state0+state1)/(math.sqrt(2))\n",
    "qc=QuantumCircuit(1)\n",
    "qc.u(0,0,np.pi/2,0)\n",
    "state0hu=state2.evolve(qc)\n",
    "state0hu.draw('latex')"
   ]
  },
  {
   "attachments": {},
   "cell_type": "markdown",
   "id": "a8202697",
   "metadata": {
    "ExecuteTime": {
     "end_time": "2023-02-08T17:01:24.291646Z",
     "start_time": "2023-02-08T17:00:39.894891Z"
    }
   },
   "source": [
    "**Exercise 2:** *Uncertainty principle*\n",
    "\n",
    "Suppose we have a qubit in a superposition of states $|0\\rangle$ and $|1\\rangle$, given by the state $\\frac{1}{\\sqrt{2}}(|0\\rangle+|1\\rangle)$. We want to measure the position and momentum of the qubit. However, due to the uncertainty principle, we cannot measure both properties with arbitrary precision.\n",
    "\n",
    "Calculate the position and momentum operators for the qubit.\n",
    "Calculate the expectation values of the position and momentum operators for the given state.\n",
    "Calculate the variances of the position and momentum operators for the given state.\n",
    "Show that the product of the variances is greater than or equal to $\\frac{1}{4}$, which demonstrates the uncertainty principle.\n",
    "\n",
    "\n",
    "\n",
    "\n",
    "The position operator for a qubit is given by $$X = |0\\rangle\\langle 0 | - |1\\rangle\\langle 1 |$$\n",
    "and the momentum operator is given by $$P = \\frac{1}{2\\pi}\\int dx  e^{-ipx} | x\\rangle\\langle x|.$$"
   ]
  },
  {
   "attachments": {},
   "cell_type": "markdown",
   "id": "89979565",
   "metadata": {},
   "source": [
    "*Operators*\n",
    "\n",
    "Position operator\n",
    "$$X=\\begin{pmatrix} 1 & 0 \\\\ 0 & -1\n",
    "\\end{pmatrix}$$\n",
    "Momentum operator\n",
    "$$P=\\begin{pmatrix} e^{-ip} & 0 \\\\ 0 & e^{ip}\n",
    "\\end{pmatrix}$$ \n",
    "\n",
    "*Expectation values*\n",
    "\n",
    "Position operator\n",
    "$$\\langle\\psi|X|\\psi\\rangle=\\frac{1}{2}\\begin{pmatrix}1 & 1\\end{pmatrix}\\begin{pmatrix} 1 & 0 \\\\ 0 & -1\n",
    "\\end{pmatrix}\\begin{pmatrix}1 \\\\ 1\\end{pmatrix}=0$$\n",
    "Momentum operator\n",
    "\n",
    "$$\\langle\\psi|P|\\psi\\rangle=\\frac{1}{2}\\begin{pmatrix}1 & 1\\end{pmatrix}\\begin{pmatrix} e^{-ip} & 0 \\\\ 0 & e^{ip}\n",
    "\\end{pmatrix}\\begin{pmatrix}1 \\\\ 1\\end{pmatrix}=(e^{-ip}+e^{ip})/2=\\cos(p)$$\n",
    "\n",
    "*Variances*\n",
    "\n",
    "Position operator\n",
    "$$\\langle\\psi|X^2|\\psi\\rangle=\\frac{1}{2}\\begin{pmatrix}1 & 1\\end{pmatrix}\\begin{pmatrix} 1 & 0 \\\\ 0 & 1\n",
    "\\end{pmatrix}\\begin{pmatrix}1 \\\\ 1\\end{pmatrix}=1$$\n",
    "$$\n",
    "\\Delta X=\\sqrt{\\langle X^2\\rangle-\\langle X\\rangle^2}=1\n",
    "$$\n",
    "\n",
    "Momentum operator\n",
    "\n",
    "$$\\langle\\psi|P^2|\\psi\\rangle=\\frac{1}{2}\\begin{pmatrix}1 & 1\\end{pmatrix}\\begin{pmatrix} e^{-2ip} & 0 \\\\ 0 & e^{2ip}\n",
    "\\end{pmatrix}\\begin{pmatrix}1 \\\\ 1\\end{pmatrix}=\\cos(2p)$$\n",
    "$$\n",
    "\\Delta P=\\sqrt{\\langle P^2\\rangle-\\langle P\\rangle^2}=\\sqrt{\\cos(2p)-\\cos^2(p)}=\\sqrt{(\\cos(2p)-1)/2}\n",
    "$$\n",
    "\n",
    "*Heisenberg Uncertainty*\n",
    "\n",
    "$$\n",
    "\\Delta X \\Delta P = \\sqrt{(\\cos(2p)-1)/2}\n",
    "$$\n"
   ]
  },
  {
   "cell_type": "markdown",
   "id": "b684725a",
   "metadata": {
    "ExecuteTime": {
     "end_time": "2023-02-08T17:01:24.291646Z",
     "start_time": "2023-02-08T17:00:39.894891Z"
    }
   },
   "source": [
    "**Exercise 3:** *Wave-particle duality*\n",
    "\n",
    "Unfortunately, it is not possible to simulate the double-slit experiment using Qiskit or any other quantum computing framework as it requires a physical setup and experimental apparatus. The double-slit experiment is a classic example of wave-particle duality and demonstrates the interference pattern produced by a wave-like behavior of particles.\n",
    "\n",
    "However, we can still simulate a simplified version of the double-slit experiment using Qiskit to demonstrate the concept of interference.\n",
    "\n",
    "\n",
    "Consider a quantum circuit with two qubits in an equal superposition state, and apply a Hadamard gate to each qubit. Then, apply a CNOT gate with the first qubit as the control and the second qubit as the target. Finally, measure both qubits. What is the expected outcome of the measurement, and what does it demonstrate?"
   ]
  },
  {
   "attachments": {},
   "cell_type": "markdown",
   "id": "b07300dc",
   "metadata": {},
   "source": [
    "$$\\psi_1=|0\\rangle \\xrightarrow{\\hat{H}} \\frac{1}{\\sqrt{2}}(|0\\rangle+|1\\rangle)$$\n",
    "$$\\psi_2=|0\\rangle \\xrightarrow{\\hat{H}} \\frac{1}{\\sqrt{2}}(|0\\rangle+|1\\rangle)$$\n",
    "\n",
    "They result in\n",
    "$$\\Psi=\\frac{1}{2}(|00\\rangle+|01\\rangle+|10\\rangle+|11\\rangle)$$\n",
    "\n",
    "With the first qubit as the control and the second as the target we get\n",
    "\n",
    "$$CNOT\\Psi=\\frac{1}{2}(|00\\rangle+|01\\rangle+|11\\rangle+|01\\rangle)$$\n",
    "\n",
    "I expect the same number of measurements for each outcome"
   ]
  },
  {
   "cell_type": "code",
   "execution_count": 3,
   "id": "f6e200e8",
   "metadata": {},
   "outputs": [
    {
     "name": "stdout",
     "output_type": "stream",
     "text": [
      "{'11': 2465, '00': 2521, '10': 2491, '01': 2523}\n"
     ]
    }
   ],
   "source": [
    "\n",
    "qc=QuantumCircuit(2)\n",
    "qc.h(0)\n",
    "qc.h(1)\n",
    "qc.cnot(0,1)\n",
    "qc.measure_all()\n",
    "sim=Aer.get_backend(\"qasm_simulator\")\n",
    "job=execute(qc,sim,shots=10000)\n",
    "result=job.result()\n",
    "counts=result.get_counts()\n",
    "print(counts)"
   ]
  },
  {
   "attachments": {},
   "cell_type": "markdown",
   "id": "a8ea386f",
   "metadata": {},
   "source": [
    "This uses the same concept of the DSE, because here we have the same superposition state interacting with \"itself\", interaction between $\\hat{H}|\\psi_1\\rangle$ and $\\hat{H}|\\psi_2\\rangle$ and changing the final outcomes"
   ]
  },
  {
   "cell_type": "markdown",
   "id": "02abfdb1",
   "metadata": {
    "ExecuteTime": {
     "end_time": "2023-02-08T17:01:24.291646Z",
     "start_time": "2023-02-08T17:00:39.894891Z"
    }
   },
   "source": [
    "<div class=\"alert alert-success\">\n",
    "<b>Today's afterthoughts:</b>\n",
    "\n",
    "Qiskit is based on \"digital\" quantum states, a natural extension of  the classical bit, but you have probably heard about \"continuous variable states\". What are your opinions about using these systems to implement a quantum computer?\n",
    "</div>"
   ]
  },
  {
   "attachments": {},
   "cell_type": "markdown",
   "id": "36b94eac",
   "metadata": {},
   "source": [
    "To implement an extension of a countinous variable state would require an even greater complexity to the system, but even a countinous variable would be a discrete one in the real world."
   ]
  }
 ],
 "metadata": {
  "hide_input": false,
  "kernelspec": {
   "display_name": "Python 3 (ipykernel)",
   "language": "python",
   "name": "python3"
  },
  "language_info": {
   "codemirror_mode": {
    "name": "ipython",
    "version": 3
   },
   "file_extension": ".py",
   "mimetype": "text/x-python",
   "name": "python",
   "nbconvert_exporter": "python",
   "pygments_lexer": "ipython3",
   "version": "3.10.9"
  },
  "nbTranslate": {
   "displayLangs": [
    "*"
   ],
   "hotkey": "alt-t",
   "langInMainMenu": true,
   "sourceLang": "en",
   "targetLang": "fr",
   "useGoogleTranslate": true
  },
  "toc": {
   "base_numbering": 1,
   "nav_menu": {},
   "number_sections": true,
   "sideBar": true,
   "skip_h1_title": false,
   "title_cell": "Table of Contents",
   "title_sidebar": "Contents",
   "toc_cell": false,
   "toc_position": {
    "height": "calc(100% - 180px)",
    "left": "10px",
    "top": "150px",
    "width": "249.333px"
   },
   "toc_section_display": true,
   "toc_window_display": true
  }
 },
 "nbformat": 4,
 "nbformat_minor": 5
}
