{
 "cells": [
  {
   "cell_type": "markdown",
   "id": "735561e0",
   "metadata": {},
   "source": [
    "#  Week 7-  Quantum communications <a class=\"tocSkip\">\n",
    "    (c) Ariel Guerreiro 2023"
   ]
  },
  {
   "cell_type": "markdown",
   "id": "b894f867",
   "metadata": {},
   "source": [
    "Quantum communications is a rapidly advancing field at the intersection of quantum mechanics and information theory. The goal of quantum communication is to use the properties of quantum systems to transmit information securely and efficiently over long distances. This is accomplished by encoding information onto quantum states, which can then be transmitted through a quantum communication channel.\n",
    "\n",
    "One of the most fascinating applications of quantum communication is quantum state teleportation, a protocol that allows a quantum state to be transmitted from one location to another without physically moving the particle carrying that state. This is achieved by using the entanglement between two quantum systems, known as quantum teleportation channels, to transfer the quantum state from one location to another.\n",
    "\n",
    "Qiskit, a python-based open-source framework for quantum computing, provides a platform for experimenting with quantum state teleportation and other quantum communication protocols. In this exercise, we will use Qiskit to explore the basics of quantum teleportation and learn how it can be used to transmit quantum states securely and efficiently. By leveraging the power of Qiskit, we can gain an intuitive understanding of quantum communication and prepare for the exciting possibilities that this field holds for the future of information technology.\n",
    "\n",
    "Throughout this notebook, we will use interactive examples and exercises to help you gain a deeper understanding of these topics."
   ]
  },
  {
   "cell_type": "markdown",
   "id": "18446518",
   "metadata": {},
   "source": [
    "# Before we start... <a class=\"tocSkip\">\n",
    " \n",
    "  Let us begin by runnning the initialization cell\n",
    "    \n",
    "$$\n",
    "\\def\\ket#1{\\left|#1\\right\\rangle }%\n",
    "\\def\\bra#1{\\left\\langle #1\\right|}%\n",
    "\\def\\braket#1#2{\\langle#1|#2\\rangle}%\n",
    "$$\n",
    "   "
   ]
  },
  {
   "cell_type": "code",
   "execution_count": 25,
   "id": "2a585947",
   "metadata": {
    "ExecuteTime": {
     "end_time": "2023-04-08T08:08:10.841843Z",
     "start_time": "2023-04-08T08:08:08.370222Z"
    }
   },
   "outputs": [
    {
     "name": "stdout",
     "output_type": "stream",
     "text": [
      "Imports Successful\n"
     ]
    }
   ],
   "source": [
    "import numpy as np\n",
    "import math as mt\n",
    "import matplotlib.pyplot as plt\n",
    "import random\n",
    "import re             # regular expressions module\n",
    "\n",
    "from pylab import plot\n",
    "from qiskit import *\n",
    "from qiskit.visualization import *\n",
    "\n",
    "from qiskit import QuantumCircuit, Aer, transpile, assemble\n",
    "from qiskit.visualization import plot_histogram, plot_bloch_multivector\n",
    "from numpy.random import randint\n",
    "from qiskit.quantum_info import state_fidelity, entropy\n",
    "print(\"Imports Successful\")\n"
   ]
  },
  {
   "cell_type": "markdown",
   "id": "c038001e",
   "metadata": {
    "ExecuteTime": {
     "end_time": "2023-03-14T08:04:52.605372Z",
     "start_time": "2023-03-14T08:04:52.122661Z"
    }
   },
   "source": [
    "# Teleportation \n",
    "\n",
    "Alice wants to send quantum information to Bob. Specifically, suppose she wants to transfer the state $|\\psi\\rangle =\\alpha |0\\rangle + \\beta |1\\rangle$  to Bob, which is assumed to be spatially separated. This is called state teleportation and its protocol can be decomposed in the following steps:\n",
    "\n",
    "Step 1: Alice and Bob create an entangled state of two quantum registers. This is typically an element of the Bell basis, which for sake of simplicity we assume to be\n",
    "\\begin{align*}\n",
    "\\ket{\\Phi^{+}} & :=\\frac{1}{\\sqrt{2}}\\left(\\ket{00}+\\ket{11}\\right)\\\\.\n",
    "\\end{align*}\n",
    "One quantum register remains with Alice (say, the register $q_1$) and the other with Bob (say, the register $q_2$). \n",
    "\n",
    "Step 2: Alice applies a CNOT gate on  $q_1$  controlled by  $|\\psi\\rangle$ (the state she is trying to send Bob).\n",
    "\n",
    "Step 3: Next, Alice applies a Hadamard gate to  $|\\psi\\rangle$;\n",
    "\n",
    "Step 4: Alice applies a measurement to both her registers ( $q_1$  and $|\\psi\\rangle$).\n",
    "\n",
    "Step 5: Then, Alice use a classical channel to communicate with Bob the results of the measurements (for example, via the phone). Note that this transfer of information is classical.\n",
    "\n",
    "Step 6: Based on what Alice obtains form her measurements and tells Bob over the classical channel, he applies specific gates to his quantum register,  $q_2$. The gates to be applied are as follows :\n",
    "\n",
    "00  →  Do nothing\n",
    "\n",
    "01  →  Apply  $X$  gate\n",
    "\n",
    "10  →  Apply  $Z$  gate\n",
    "\n",
    "11  →  Apply  $ZX$  gate\n",
    "\n",
    "where these gates correspond to the Pauli matrices\n",
    "$$\n",
    "X= \\begin{pmatrix}\n",
    "0 & 1 \\\\\n",
    "1 & 0\n",
    "\\end{pmatrix}\\ \n",
    "Y= \\begin{pmatrix}\n",
    "0 & -i \\\\\n",
    "i & 0\n",
    "\\end{pmatrix}\\ \n",
    "Z= \\begin{pmatrix}\n",
    "1 & 0 \\\\\n",
    "0 & -1\n",
    "\\end{pmatrix}\n",
    "$$\n",
    "\n",
    "As a result of this protocol the quantum state in Bob's register will be the state $|\\psi\\rangle$\n",
    "\n",
    "\n",
    "The pair they create is a special pair called a Bell pair. In quantum circuit language, the way to create a Bell pair between two qubits is to first transfer one of them to the Bell basis ( |+⟩  and  |−⟩ ) by using a Hadamard gate, and then to apply a CNOT gate onto the other qubit controlled by the one in the Bell basis."
   ]
  },
  {
   "cell_type": "code",
   "execution_count": 26,
   "id": "2b2e168a",
   "metadata": {
    "ExecuteTime": {
     "end_time": "2023-04-08T08:08:10.873801Z",
     "start_time": "2023-04-08T08:08:10.849832Z"
    }
   },
   "outputs": [],
   "source": [
    "# Simple function that applies a series of unitary gates from a given string\n",
    "\n",
    "def Unitary(transformation_list, register, quantum_circuit, dagger):\n",
    "    # transformation_list is a string of transformations to be applied to a register\n",
    "    # register is the register where to apply the transformation\n",
    "    # quantum_circuit is the circuit that contains the registers\n",
    "    # dagger is 0 or 1 depending on whether we wand a transform or its H.c.\n",
    "    functionmap = {\n",
    "        #set of the possible transformation to be applied to the state\n",
    "        \n",
    "                    'x':quantum_circuit.x, #Pauli X\n",
    "                    'y':quantum_circuit.y, #Pauli Y\n",
    "                    'z':quantum_circuit.z, #Pauli Z\n",
    "                    'h':quantum_circuit.h, #Hadamard                   \n",
    "                    't':quantum_circuit.t, #T gate                   \n",
    "    }\n",
    "       #How to apply the Hermitc conjugate of the unitary transformation\n",
    "    if dagger: \n",
    "        # Notice that only the T gate is not self-adjoint, \n",
    "        # hence is the only one that needs to be altered in the case of dagger ==1\n",
    "        functionmap['t'] = quantum_circuit.tdg\n",
    "    \n",
    "    if dagger:\n",
    "        # Applies the sequence of transforms in the case of dagger ==1 \n",
    "        [functionmap[unitary](register) for unitary in transformation_list]\n",
    "    else:\n",
    "        # Applies the sequence of transforms in the case of dagger ==o (notice the reverse order)\n",
    "        [functionmap[unitary](register) for unitary in transformation_list[::-1]]"
   ]
  },
  {
   "cell_type": "markdown",
   "id": "06661309",
   "metadata": {
    "ExecuteTime": {
     "end_time": "2023-03-11T10:45:22.757632Z",
     "start_time": "2023-03-11T10:45:22.468822Z"
    }
   },
   "source": [
    "<div class=\"alert alert-block alert-warning\">\n",
    "<b>Code Explained: </b>    \n",
    "\n",
    "This code defines a function called \"Unitary\" that applies a series of unitary gates to a quantum register in a quantum circuit. The function takes in four arguments: the list of transformations to be applied, the register where the transformations are to be applied, the quantum circuit that contains the register, and a boolean variable called \"dagger\" that indicates whether the function should apply the transformation or its Hermitian conjugate.\n",
    "\n",
    "The function starts by creating a dictionary called \"functionmap\" that maps the transformation characters to their corresponding functions in the quantum circuit library. The dictionary contains functions for the Pauli X, Y, and Z gates, the Hadamard gate, and the T gate. If \"dagger\" is set to 1, the dictionary maps the T gate to its Hermitian conjugate, which is denoted as \"tdg\".\n",
    "\n",
    "If \"dagger\" is set to 1, the function applies the transformations in the order they are given in the list to the register. If \"dagger\" is set to 0, the function applies the transformations in the reverse order. The function uses list comprehension to iterate over the transformation list and apply each transformation to the register using the corresponding function from the \"functionmap\" dictionary.</div>"
   ]
  },
  {
   "cell_type": "markdown",
   "id": "3f76f75a",
   "metadata": {
    "ExecuteTime": {
     "end_time": "2023-03-11T10:45:22.757632Z",
     "start_time": "2023-03-11T10:45:22.468822Z"
    }
   },
   "source": [
    "    \n",
    "The registers used in the protocol are as follows:\n",
    "\n",
    "$q[0]$: register containing the state to be teleported.\n",
    "\n",
    "$q[1]$: Alice's second register, which will be entangled with Bob's\n",
    "\n",
    "$q[2]$: Bob's register, which will be the destination for the teleportation\n",
    "\n",
    "\n",
    "Beside these quantum register, the protocol also requires a classical register to contain the results from the measures"
   ]
  },
  {
   "cell_type": "code",
   "execution_count": 27,
   "id": "06603bc0",
   "metadata": {
    "ExecuteTime": {
     "end_time": "2023-04-08T08:08:11.410655Z",
     "start_time": "2023-04-08T08:08:10.876755Z"
    }
   },
   "outputs": [
    {
     "data": {
      "image/png": "[encoded data removed]",
      "text/plain": [
       "<Figure size 1207.22x367.889 with 1 Axes>"
      ]
     },
     "execution_count": 27,
     "metadata": {},
     "output_type": "execute_result"
    }
   ],
   "source": [
    "# Create the quantum circuit with 3 qubits and 1 classical bit\n",
    "circuit5 = QuantumCircuit(3, 1)\n",
    "\n",
    "#Generate a secret state for Alice using a series of unitary gates on a qubit  initialized in the state |0⟩ . \n",
    "secret = 'hz'\n",
    "Unitary(secret, circuit5.qubits[0], circuit5, dagger = 0)\n",
    "circuit5.barrier()\n",
    "\n",
    "#Redy to start teleportation protocol....Beam me up Scotty! (STR)\n",
    "\n",
    "# Step 1: Alice and Bob create an entangled state of two quantum registers. \n",
    "# Hadamard followed by CX generates the intended Bell state\n",
    "circuit5.h(1)\n",
    "circuit5.cx(1, 2)\n",
    "circuit5.barrier()\n",
    "\n",
    "#Step 2: Alice applies a CNOT gate on  q1  controlled by  q0\n",
    "circuit5.cx(0, 1)\n",
    "\n",
    "#Step 3: Alice applies a Hadamard gate to q0\n",
    "circuit5.h(0)\n",
    "\n",
    "#Step 4: Alice applies a measurement to both her registers\n",
    "#step 5: Alice use a classical channel to communicate with Bob the results of the measurements\n",
    "#Step 6: Bob applies specific gates to his quantum register q2. \n",
    "\n",
    "#All of these steps are done simultaneously,using these quantum operators\n",
    "#Why are there no actual measurments but transformations applied to Bob \n",
    "#controled by the states in Alice registers?\n",
    "circuit5.cx(1, 2)\n",
    "circuit5.cz(0, 2)\n",
    "\n",
    "\n",
    "#Let us verify if the teleportation s as worked by inverting the unitary \n",
    "#transformation that generateb the secret state in Alice's register  but \n",
    "#now applied to Bob's state. If everything went of it should reverse the \n",
    "#state back to |0>\n",
    "Unitary(secret, circuit5.qubits[2], circuit5, dagger=1)\n",
    "\n",
    "circuit5.barrier()\n",
    "circuit5.measure(2, 0)\n",
    "\n",
    "circuit5.draw(output='mpl')"
   ]
  },
  {
   "cell_type": "markdown",
   "id": "2f6bda41",
   "metadata": {
    "ExecuteTime": {
     "end_time": "2023-03-11T10:45:22.757632Z",
     "start_time": "2023-03-11T10:45:22.468822Z"
    }
   },
   "source": [
    "<div class=\"alert alert-block alert-warning\">\n",
    "<b>Code Explained: </b>    \n",
    "\n",
    "This code demonstrates a quantum state teleportation protocol using Qiskit. The code starts by creating a quantum circuit called \"circuit5\" with 3 qubits and 1 classical bit.\n",
    "\n",
    "In the next step, a secret quantum state is generated for Alice using a series of unitary gates on a qubit initialized in the state |0⟩. The \"Unitary\" function is called with the secret state string and the first qubit in the circuit as arguments to apply the sequence of unitary gates. A barrier is added to the circuit to separate the initialization step from the teleportation protocol.\n",
    "\n",
    "The teleportation protocol is implemented in the next steps. Alice and Bob create an entangled state of two quantum registers using a Hadamard gate followed by a CX gate on qubits 1 and 2. Alice applies a CNOT gate on q1 controlled by q0 and a Hadamard gate to q0. Alice then measures both of her qubits and communicates the measurement results to Bob using a classical channel. Bob applies specific gates to his quantum register q2 based on the measurement results he receives from Alice. These gates are chosen to \"teleport\" the quantum state of q0 to q2.\n",
    "\n",
    "To verify if the teleportation was successful, the \"Unitary\" function is called again with the secret state string and the third qubit in the circuit as arguments, but with \"dagger\" set to 1 to apply the inverse transformations. The circuit then measures the third qubit and stores the result in the classical bit. \n",
    "    \n",
    "In the next snippet, the circuit is run on a simulator backend and the measurement results are plotted using a histogram.\n",
    "\n",
    "If the teleportation was successful, all of the measurement results should be in the state |0⟩, indicating that the secret state was successfully teleported from Alice's qubit to Bob's qubit.\n",
    "    \n",
    "</div>"
   ]
  },
  {
   "cell_type": "code",
   "execution_count": 28,
   "id": "9945e750",
   "metadata": {
    "ExecuteTime": {
     "end_time": "2023-04-08T08:08:12.089639Z",
     "start_time": "2023-04-08T08:08:11.414645Z"
    }
   },
   "outputs": [
    {
     "name": "stdout",
     "output_type": "stream",
     "text": [
      "{'0': 1024}\n"
     ]
    },
    {
     "data": {
      "image/png": "[encoded data removed]",
      "text/plain": [
       "<Figure size 700x500 with 1 Axes>"
      ]
     },
     "execution_count": 28,
     "metadata": {},
     "output_type": "execute_result"
    }
   ],
   "source": [
    "backend = Aer.get_backend('qasm_simulator')\n",
    "job = execute(circuit5, backend, shots=1024)\n",
    "result = job.result()\n",
    "\n",
    "measurement_result = result.get_counts(circuit5)\n",
    "print(measurement_result)\n",
    "plot_histogram(measurement_result) \n",
    "#perfect teleportation should provide all the counts in the state |0>"
   ]
  },
  {
   "attachments": {},
   "cell_type": "markdown",
   "id": "026be71c",
   "metadata": {
    "ExecuteTime": {
     "end_time": "2023-03-11T10:45:22.757632Z",
     "start_time": "2023-03-11T10:45:22.468822Z"
    }
   },
   "source": [
    "**Exercises**\n"
   ]
  },
  {
   "cell_type": "markdown",
   "id": "af3db98e",
   "metadata": {},
   "source": [
    "\n",
    "1. Verify whether this protocol works for a wide range of secret states.\n",
    "    \n"
   ]
  },
  {
   "cell_type": "code",
   "execution_count": 29,
   "id": "97f85ed7",
   "metadata": {},
   "outputs": [],
   "source": [
    "def protocol(secret):\n",
    "    circuit5 = QuantumCircuit(3, 1)\n",
    "    Unitary(secret, circuit5.qubits[0], circuit5, dagger = 0)\n",
    "    circuit5.barrier()\n",
    "\n",
    "    #Ready to start teleportation protocol....Beam me up Scotty! (STR)\n",
    "\n",
    "    # Step 1: Alice and Bob create an entangled state of two quantum registers. \n",
    "    # Hadamard followed by CX generates the intended Bell state\n",
    "    circuit5.h(1)\n",
    "    circuit5.cx(1, 2)\n",
    "    circuit5.barrier()\n",
    "\n",
    "    #Step 2: Alice applies a CNOT gate on  q1  controlled by  q0\n",
    "    circuit5.cx(0, 1)\n",
    "\n",
    "    #Step 3: Alice applies a Hadamard gate to q0\n",
    "    circuit5.h(0)\n",
    "\n",
    "    #Step 4: Alice applies a measurement to both her registers\n",
    "    #step 5: Alice use a classical channel to communicate with Bob the results of the measurements\n",
    "    #Step 6: Bob applies specific gates to his quantum register q2. \n",
    "\n",
    "    #All of these steps are done simultaneously,using these quantum operators\n",
    "    #Why are there no actual measurments but transformations applied to Bob \n",
    "    #controled by the states in Alice registers?\n",
    "    circuit5.cx(1, 2)\n",
    "    circuit5.cz(0, 2)\n",
    "\n",
    "\n",
    "    #Let us verify if the teleportation s as worked by inverting the unitary \n",
    "    #transformation that generateb the secret state in Alice's register  but \n",
    "    #now applied to Bob's state. If everything went of it should reverse the \n",
    "    #state back to |0>\n",
    "    Unitary(secret, circuit5.qubits[2], circuit5, dagger=1)\n",
    "\n",
    "    circuit5.barrier()\n",
    "    circuit5.measure(2, 0)\n",
    "\n",
    "    backend = Aer.get_backend('qasm_simulator')\n",
    "    job = execute(circuit5, backend, shots=1024)\n",
    "    result = job.result()\n",
    "\n",
    "    measurement_result = result.get_counts(circuit5)\n",
    "    return measurement_result \n",
    "    #perfect teleportation should provide all the counts in the state |0>"
   ]
  },
  {
   "cell_type": "code",
   "execution_count": null,
   "id": "0631ff7a",
   "metadata": {},
   "outputs": [],
   "source": [
    "from itertools import combinations_with_replacement\n",
    "# Create the quantum circuit with 3 qubits and 1 classical bit\n",
    "\n",
    "\n",
    "#Generate a secret state for Alice using a series of unitary gates on a qubit  initialized in the state |0⟩ . \n",
    "secret_list=[]\n",
    "for i in range(2,10):\n",
    "    secret=combinations_with_replacement(['x', 'y', 'h','z',], i)\n",
    "    for j in secret:\n",
    "        n=j[0]\n",
    "        for k in range(1,len(j)):\n",
    "            n+=j[k]\n",
    "        secret_list.append(n)\n",
    "\n",
    "\n",
    "n=0\n",
    "for i in secret_list:\n",
    "    result=protocol(i)\n",
    "    if result[\"0\"]==1024:\n",
    "        n+=1\n",
    "if n==len(secret_list):\n",
    "    print('Sucess')\n"
   ]
  },
  {
   "cell_type": "markdown",
   "id": "8fc78b3c",
   "metadata": {},
   "source": [
    "2. Test the protocol in the IBM computer a measure the fidelity for several states.\n",
    "    \n"
   ]
  },
  {
   "attachments": {},
   "cell_type": "markdown",
   "id": "004bea7c",
   "metadata": {},
   "source": [
    "\n",
    "<b>Question 1:</b> Does the fidelity changes if have a more complex unitary transformation to generate the secret state? Why?\n",
    "</div>\n"
   ]
  },
  {
   "cell_type": "code",
   "execution_count": 30,
   "id": "60315f79",
   "metadata": {},
   "outputs": [],
   "source": [
    "def protocol_fidelity(secret):\n",
    "    circuit5 = QuantumCircuit(3, 1)\n",
    "    Unitary(secret, circuit5.qubits[0], circuit5, dagger = 0)\n",
    "    \n",
    "    circuit5.barrier()\n",
    "    backend = Aer.get_backend('statevector_simulator')\n",
    "    state_i = execute(circuit5, backend).result().get_statevector(circuit5)\n",
    "    circuit5.barrier()\n",
    "\n",
    "\n",
    "    #Ready to start teleportation protocol....Beam me up Scotty! (STR)\n",
    "\n",
    "    # Step 1: Alice and Bob create an entangled state of two quantum registers. \n",
    "    # Hadamard followed by CX generates the intended Bell state\n",
    "    circuit5.h(1)\n",
    "    circuit5.cx(1, 2)\n",
    "    circuit5.barrier()\n",
    "\n",
    "    #Step 2: Alice applies a CNOT gate on  q1  controlled by  q0\n",
    "    circuit5.cx(0, 1)\n",
    "\n",
    "    #Step 3: Alice applies a Hadamard gate to q0\n",
    "    circuit5.h(0)\n",
    "\n",
    "    #Step 4: Alice applies a measurement to both her registers\n",
    "    #step 5: Alice use a classical channel to communicate with Bob the results of the measurements\n",
    "    #Step 6: Bob applies specific gates to his quantum register q2. \n",
    "\n",
    "    #All of these steps are done simultaneously,using these quantum operators\n",
    "    #Why are there no actual measurments but transformations applied to Bob \n",
    "    #controled by the states in Alice registers?\n",
    "    circuit5.cx(1, 2)\n",
    "    circuit5.cz(0, 2)\n",
    "    circuit5.barrier()\n",
    "    backend = Aer.get_backend('statevector_simulator')\n",
    "    state_f = execute(circuit5, backend).result().get_statevector(circuit5)\n",
    "    circuit5.barrier()\n",
    "\n",
    "\n",
    "    #Let us verify if the teleportation s as worked by inverting the unitary \n",
    "    #transformation that generateb the secret state in Alice's register  but \n",
    "    #now applied to Bob's state. If everything went of it should reverse the \n",
    "    #state back to |0>\n",
    "    Unitary(secret, circuit5.qubits[2], circuit5, dagger=1)\n",
    "\n",
    "    circuit5.barrier()\n",
    "    circuit5.measure(2, 0)\n",
    "\n",
    "    backend = Aer.get_backend('qasm_simulator')\n",
    "    job = execute(circuit5, backend, shots=1024)\n",
    "    result = job.result()\n",
    "    fidelity=state_fidelity(state_i,state_f)\n",
    "\n",
    "    return fidelity\n",
    "    #perfect teleportation should provide all the counts in the state |0>"
   ]
  },
  {
   "cell_type": "code",
   "execution_count": null,
   "id": "6d5e43da",
   "metadata": {},
   "outputs": [],
   "source": [
    "#Generate a secret state for Alice using a series of unitary gates on a qubit  initialized in the state |0⟩ . \n",
    "secret_list=[]\n",
    "for i in range(2,7):\n",
    "    secret=combinations_with_replacement(['x', 'y', 'h','z',], i)\n",
    "    for j in secret:\n",
    "        n=j[0]\n",
    "        for k in range(1,len(j)):\n",
    "            n+=j[k]\n",
    "        secret_list.append(n)\n",
    "\n",
    "\n",
    "result=[]\n",
    "for i in secret_list:\n",
    "    result.append(protocol_fidelity(i))\n",
    "plt.plot(secret_list,result)\n",
    "plt.show"
   ]
  },
  {
   "attachments": {},
   "cell_type": "markdown",
   "id": "c5e05d7d",
   "metadata": {},
   "source": [
    "We can see that the fidelity no matter how much complicated the unitary transformation gets, it never increases above 0.25. It is to be expected because the state will always remain, no matter how many gates are presented, in the type $$\\alpha|0\\rangle+\\beta|1\\rangle$$"
   ]
  },
  {
   "attachments": {},
   "cell_type": "markdown",
   "id": "278eb267",
   "metadata": {},
   "source": [
    "\n",
    "<b>Question 2:</b> Does the fidelity depends on the position of of the secret state in the Bloch sphere? If so, why?\n",
    "</div>\n",
    "\n"
   ]
  },
  {
   "cell_type": "code",
   "execution_count": 31,
   "id": "77d90bb3",
   "metadata": {},
   "outputs": [],
   "source": [
    "def get_spherical_coordinates(statevector):\n",
    "    # Convert to polar form:\n",
    "    r0 = np.abs(statevector[0])\n",
    "    ϕ0 = np.angle(statevector[0])\n",
    "\n",
    "    r1 = np.abs(statevector[1])\n",
    "    ϕ1 = np.angle(statevector[1])\n",
    "\n",
    "    # Calculate the coordinates:\n",
    "    r = np.sqrt(r0 ** 2 + r1 ** 2)\n",
    "    θ = 2 * np.arccos(r0 / r)\n",
    "    ϕ = ϕ1 - ϕ0\n",
    "    return [r, θ, ϕ]"
   ]
  },
  {
   "cell_type": "code",
   "execution_count": 32,
   "id": "131e5a9e",
   "metadata": {},
   "outputs": [],
   "source": [
    "def protocol_fidelity_getbloch(secret):\n",
    "    circuit5 = QuantumCircuit(3, 1)\n",
    "    Unitary(secret, circuit5.qubits[0], circuit5, dagger = 0)\n",
    "\n",
    "    circuit5.barrier()\n",
    "    backend = Aer.get_backend('statevector_simulator')\n",
    "    state_i = execute(circuit5, backend).result().get_statevector(circuit5)\n",
    "    circuit5.barrier()\n",
    "\n",
    "    #Ready to start teleportation protocol....Beam me up Scotty! (STR)\n",
    "\n",
    "    # Step 1: Alice and Bob create an entangled state of two quantum registers. \n",
    "    # Hadamard followed by CX generates the intended Bell state\n",
    "    circuit5.h(1)\n",
    "    circuit5.cx(1, 2)\n",
    "    circuit5.barrier()\n",
    "\n",
    "    #Step 2: Alice applies a CNOT gate on  q1  controlled by  q0\n",
    "    circuit5.cx(0, 1)\n",
    "\n",
    "    #Step 3: Alice applies a Hadamard gate to q0\n",
    "    circuit5.h(0)\n",
    "\n",
    "    #Step 4: Alice applies a measurement to both her registers\n",
    "    #step 5: Alice use a classical channel to communicate with Bob the results of the measurements\n",
    "    #Step 6: Bob applies specific gates to his quantum register q2. \n",
    "\n",
    "    #All of these steps are done simultaneously,using these quantum operators\n",
    "    #Why are there no actual measurments but transformations applied to Bob \n",
    "    #controled by the states in Alice registers?\n",
    "    circuit5.cx(1, 2)\n",
    "    circuit5.cz(0, 2)\n",
    "    circuit5.barrier()\n",
    "    backend = Aer.get_backend('statevector_simulator')\n",
    "    state_f = execute(circuit5, backend).result().get_statevector(circuit5)\n",
    "    circuit5.barrier()\n",
    "\n",
    "\n",
    "    #Let us verify if the teleportation s as worked by inverting the unitary \n",
    "    #transformation that generateb the secret state in Alice's register  but \n",
    "    #now applied to Bob's state. If everything went of it should reverse the \n",
    "    #state back to |0>\n",
    "    Unitary(secret, circuit5.qubits[2], circuit5, dagger=1)\n",
    "\n",
    "    circuit5.barrier()\n",
    "    circuit5.measure(2, 0)\n",
    "\n",
    "    backend = Aer.get_backend('qasm_simulator')\n",
    "    job = execute(circuit5, backend, shots=1024)\n",
    "    result = job.result()\n",
    "    fidelity=state_fidelity(state_i,state_f)\n",
    "\n",
    "    return fidelity, get_spherical_coordinates(state_i)\n",
    "    #perfect teleportation should provide all the counts in the state |0>"
   ]
  },
  {
   "cell_type": "code",
   "execution_count": null,
   "id": "0d06e7a3",
   "metadata": {},
   "outputs": [],
   "source": [
    "result=[]\n",
    "theta=[]\n",
    "phi=[]\n",
    "for i in secret_list:\n",
    "    theta.append(protocol_fidelity_getbloch(i)[1][1])\n",
    "    phi.append(protocol_fidelity_getbloch(i)[1][2])\n",
    "    result.append(protocol_fidelity_getbloch(i)[0])\n",
    "\n",
    "ax = plt.axes(projection='3d')\n",
    "ax.scatter3D(theta, phi, result, c=result, cmap='viridis')"
   ]
  },
  {
   "attachments": {},
   "cell_type": "markdown",
   "id": "90438fd5",
   "metadata": {},
   "source": [
    "When thinking of the secret state it's going to be something like this\n",
    "$$\n",
    "|\\psi\\rangle=\\cos(\\theta/2)|0\\rangle+e^{i\\phi}\\sin(\\theta/2)|1\\rangle \\\\[10pt]\n",
    "\\rho=\\begin{pmatrix} \\cos^2(\\theta/2) & e^{i\\phi}\\sin(\\theta/2)\\cos(\\theta/2) \\\\ e^{-i\\phi}\\sin(\\theta/2)\\cos(\\theta/2)&\\sin^2(\\theta/2)\\end{pmatrix}\n",
    "$$\n"
   ]
  },
  {
   "attachments": {},
   "cell_type": "markdown",
   "id": "8f94c4bf",
   "metadata": {},
   "source": [
    "\n",
    "### Advanced exercises <a class=\"tocSkip\">\n",
    "    \n"
   ]
  },
  {
   "cell_type": "markdown",
   "id": "f28cf321",
   "metadata": {},
   "source": [
    "3. Alter this protocol to teleport a 2-qubit state.\n",
    "    \n"
   ]
  },
  {
   "cell_type": "code",
   "execution_count": 80,
   "id": "6c2dee5f",
   "metadata": {},
   "outputs": [],
   "source": [
    "def protocol_mult_qubit(secret,N):\n",
    "    circuit5 = QuantumCircuit(3*N, N)\n",
    "    for i in range(N):\n",
    "        Unitary(secret[i], circuit5.qubits[i], circuit5, dagger = 0)\n",
    "        circuit5.barrier()\n",
    "\n",
    "    #Ready to start teleportation protocol....Beam me up Scotty! (STR)\n",
    "\n",
    "    # Step 1: Alice and Bob create an entangled state of two quantum registers. \n",
    "    # Hadamard followed by CX generates the intended Bell state\n",
    "        circuit5.h(i+N)\n",
    "        circuit5.cx(i+N, i+2*N)\n",
    "        circuit5.barrier()\n",
    "\n",
    "        circuit5.cx(i, i+N)\n",
    "        circuit5.h(i)   #Step 3: Alice applies a Hadamard gate to q0\n",
    "        circuit5.cx(i+N, i+2*N)\n",
    "        circuit5.cz(i, i+2*N)\n",
    "        Unitary(secret[i], circuit5.qubits[i+2*N], circuit5, dagger=1)\n",
    "        \n",
    "        circuit5.draw(output='mpl')\n",
    "        circuit5.barrier()\n",
    "        circuit5.measure(i+2*N, i)\n",
    "\n",
    "    #Step 4: Alice applies a measurement to both her registers\n",
    "    #step 5: Alice use a classical channel to communicate with Bob the results of the measurements\n",
    "    #Step 6: Bob applies specific gates to his quantum register q2. \n",
    "\n",
    "    #All of these steps are done simultaneously,using these quantum operators\n",
    "    #Why are there no actual measurments but transformations applied to Bob \n",
    "    #controled by the states in Alice registers?\n",
    "    \n",
    "\n",
    "    #Let us verify if the teleportation s as worked by inverting the unitary \n",
    "    #transformation that generateb the secret state in Alice's register  but \n",
    "    #now applied to Bob's state. If everything went of it should reverse the \n",
    "    #state back to |0>\n",
    "    \n",
    "\n",
    "    backend = Aer.get_backend('qasm_simulator')\n",
    "    job = execute(circuit5, backend, shots=1024)\n",
    "    result = job.result()\n",
    "\n",
    "    measurement_result = result.get_counts(circuit5)\n",
    "    return measurement_result \n",
    "    #perfect teleportation should provide all the counts in the state |0>"
   ]
  },
  {
   "cell_type": "code",
   "execution_count": 81,
   "id": "c34eefdb",
   "metadata": {},
   "outputs": [],
   "source": [
    "from itertools import permutations\n",
    "import random\n",
    "# Create the quantum circuit with 3 qubits and 1 classical bit\n",
    "\n",
    "N=2\n",
    "#Generate a secret state for Alice using a series of unitary gates on a qubit  initialized in the state |0⟩ . \n",
    "secret_list=[]\n",
    "for l in range(N):\n",
    "    secret_list_1=[]\n",
    "    for i in range(2,10):\n",
    "        secret=permutations(['x', 'y', 'h','z',], i)\n",
    "        for j in secret:\n",
    "            n=j[0]\n",
    "            for k in range(1,len(j)):\n",
    "                n+=j[k]\n",
    "            secret_list_1.append(n)\n",
    "    secret_list.append(random.sample(secret_list_1, len(secret_list_1)))"
   ]
  },
  {
   "cell_type": "code",
   "execution_count": 86,
   "id": "4fe86023",
   "metadata": {},
   "outputs": [
    {
     "name": "stdout",
     "output_type": "stream",
     "text": [
      "2\n",
      "Sucess\n"
     ]
    }
   ],
   "source": [
    "j=0\n",
    "for i in np.transpose(secret_list):\n",
    "    result=protocol_mult_qubit(i,N)\n",
    "    if result[\"00\"]==1024:\n",
    "        j+=1\n",
    "if j==len(np.transpose(secret_list)):\n",
    "    print('Sucess')"
   ]
  },
  {
   "attachments": {},
   "cell_type": "markdown",
   "id": "46d9d4dc",
   "metadata": {},
   "source": [
    "4. Alter this protocol to teleport a 1-qubit mixed state.\n",
    "    \n"
   ]
  },
  {
   "cell_type": "code",
   "execution_count": 91,
   "metadata": {},
   "outputs": [],
   "source": [
    "def protocol_mixed(secret):\n",
    "    circuit5 = QuantumCircuit(3, 1)\n",
    "    Unitary(secret, circuit5.qubits[0], circuit5, dagger = 0)\n",
    "    circuit5.cx(1,0)\n",
    "    circuit5.reset(1)\n",
    "    circuit5.barrier()\n",
    "\n",
    "    #Ready to start teleportation protocol....Beam me up Scotty! (STR)\n",
    "\n",
    "    # Step 1: Alice and Bob create an entangled state of two quantum registers. \n",
    "    # Hadamard followed by CX generates the intended Bell state\n",
    "    circuit5.h(1)\n",
    "    circuit5.cx(1, 2)\n",
    "    circuit5.barrier()\n",
    "\n",
    "    #Step 2: Alice applies a CNOT gate on  q1  controlled by  q0\n",
    "    circuit5.cx(0, 1)\n",
    "\n",
    "    #Step 3: Alice applies a Hadamard gate to q0\n",
    "    circuit5.h(0)\n",
    "\n",
    "    #Step 4: Alice applies a measurement to both her registers\n",
    "    #step 5: Alice use a classical channel to communicate with Bob the results of the measurements\n",
    "    #Step 6: Bob applies specific gates to his quantum register q2. \n",
    "\n",
    "    #All of these steps are done simultaneously,using these quantum operators\n",
    "    #Why are there no actual measurments but transformations applied to Bob \n",
    "    #controled by the states in Alice registers?\n",
    "    circuit5.cx(1, 2)\n",
    "    circuit5.cz(0, 2)\n",
    "\n",
    "\n",
    "    #Let us verify if the teleportation s as worked by inverting the unitary \n",
    "    #transformation that generateb the secret state in Alice's register  but \n",
    "    #now applied to Bob's state. If everything went of it should reverse the \n",
    "    #state back to |0>\n",
    "    Unitary(secret, circuit5.qubits[2], circuit5, dagger=1)\n",
    "\n",
    "    circuit5.barrier()\n",
    "    circuit5.measure(2, 0)\n",
    "\n",
    "    backend = Aer.get_backend('qasm_simulator')\n",
    "    job = execute(circuit5, backend, shots=1024)\n",
    "    result = job.result()\n",
    "\n",
    "    measurement_result = result.get_counts(circuit5)\n",
    "    return measurement_result \n",
    "    #perfect teleportation should provide all the counts in the state |0>"
   ]
  },
  {
   "cell_type": "code",
   "execution_count": 93,
   "id": "ee65f7e5",
   "metadata": {},
   "outputs": [
    {
     "name": "stdout",
     "output_type": "stream",
     "text": [
      "Sucess\n"
     ]
    }
   ],
   "source": [
    "from itertools import permutations\n",
    "# Create the quantum circuit with 3 qubits and 1 classical bit\n",
    "\n",
    "\n",
    "#Generate a secret state for Alice using a series of unitary gates on a qubit  initialized in the state |0⟩ . \n",
    "secret_list=[]\n",
    "for i in range(2,10):\n",
    "    secret=permutations(['x', 'y', 'h','z',], i)\n",
    "    for j in secret:\n",
    "        n=j[0]\n",
    "        for k in range(1,len(j)):\n",
    "            n+=j[k]\n",
    "        secret_list.append(n)\n",
    "\n",
    "\n",
    "n=0\n",
    "for i in secret_list:\n",
    "    result=protocol_mixed(i)\n",
    "    if result[\"0\"]==1024:\n",
    "        n+=1\n",
    "if n==len(secret_list):\n",
    "    print('Sucess')\n"
   ]
  },
  {
   "cell_type": "markdown",
   "id": "f67ab738",
   "metadata": {},
   "source": [
    "\n",
    "<b>Question 3:</b> Does the initial entropy influences the fidelity of the teleportation?\n",
    "</div>"
   ]
  },
  {
   "cell_type": "code",
   "execution_count": 47,
   "id": "b2e2aff8",
   "metadata": {},
   "outputs": [],
   "source": [
    "def protocol_fidelity_entropy(secret):\n",
    "    circuit5 = QuantumCircuit(3, 1)\n",
    "    Unitary(secret, circuit5.qubits[0], circuit5, dagger = 0)\n",
    "    \n",
    "    circuit5.barrier()\n",
    "    backend = Aer.get_backend('statevector_simulator')\n",
    "    state_i = execute(circuit5, backend).result().get_statevector(circuit5)\n",
    "    entropy_i=entropy(state_i)\n",
    "    circuit5.barrier()\n",
    "\n",
    "    #Ready to start teleportation protocol....Beam me up Scotty! (STR)\n",
    "\n",
    "    # Step 1: Alice and Bob create an entangled state of two quantum registers. \n",
    "    # Hadamard followed by CX generates the intended Bell state\n",
    "    circuit5.h(1)\n",
    "    circuit5.cx(1, 2)\n",
    "    circuit5.barrier()\n",
    "\n",
    "    #Step 2: Alice applies a CNOT gate on  q1  controlled by  q0\n",
    "    circuit5.cx(0, 1)\n",
    "\n",
    "    #Step 3: Alice applies a Hadamard gate to q0\n",
    "    circuit5.h(0)\n",
    "\n",
    "    #Step 4: Alice applies a measurement to both her registers\n",
    "    #step 5: Alice use a classical channel to communicate with Bob the results of the measurements\n",
    "    #Step 6: Bob applies specific gates to his quantum register q2. \n",
    "\n",
    "    #All of these steps are done simultaneously,using these quantum operators\n",
    "    #Why are there no actual measurments but transformations applied to Bob \n",
    "    #controled by the states in Alice registers?\n",
    "    circuit5.cx(1, 2)\n",
    "    circuit5.cz(0, 2)\n",
    "    circuit5.barrier()\n",
    "    backend = Aer.get_backend('statevector_simulator')\n",
    "    state_f = execute(circuit5, backend).result().get_statevector(circuit5)\n",
    "    circuit5.barrier()\n",
    "\n",
    "\n",
    "    #Let us verify if the teleportation s as worked by inverting the unitary \n",
    "    #transformation that generateb the secret state in Alice's register  but \n",
    "    #now applied to Bob's state. If everything went of it should reverse the \n",
    "    #state back to |0>\n",
    "    Unitary(secret, circuit5.qubits[2], circuit5, dagger=1)\n",
    "\n",
    "    circuit5.barrier()\n",
    "    circuit5.measure(2, 0)\n",
    "\n",
    "    backend = Aer.get_backend('qasm_simulator')\n",
    "    job = execute(circuit5, backend, shots=1024)\n",
    "    result = job.result()\n",
    "    fidelity=state_fidelity(state_i,state_f,validate=True)\n",
    "\n",
    "    return fidelity,entropy_i\n",
    "    #perfect teleportation should provide all the counts in the state |0>"
   ]
  },
  {
   "cell_type": "code",
   "execution_count": 48,
   "id": "82a9b99b",
   "metadata": {},
   "outputs": [],
   "source": [
    "#Generate a secret state for Alice using a series of unitary gates on a qubit  initialized in the state |0⟩ . \n",
    "secret_list=[]\n",
    "for i in range(2,7):\n",
    "    secret=combinations_with_replacement(['x', 'y', 'h','z',], i)\n",
    "    for j in secret:\n",
    "        n=j[0]\n",
    "        for k in range(1,len(j)):\n",
    "            n+=j[k]\n",
    "        secret_list.append(n)\n",
    "\n",
    "\n",
    "result=[]\n",
    "entropy_list=[]\n",
    "for i in secret_list:\n",
    "    entropy_list.append(protocol_fidelity_entropy(i)[1])\n",
    "    result.append(protocol_fidelity_entropy(i)[0])"
   ]
  },
  {
   "cell_type": "code",
   "execution_count": 49,
   "id": "f9b4b08e",
   "metadata": {},
   "outputs": [
    {
     "data": {
      "text/plain": [
       "<function matplotlib.pyplot.show(close=None, block=None)>"
      ]
     },
     "execution_count": 49,
     "metadata": {},
     "output_type": "execute_result"
    },
    {
     "data": {
      "image/png": "[encoded data removed]",
      "text/plain": [
       "<Figure size 640x480 with 1 Axes>"
      ]
     },
     "metadata": {},
     "output_type": "display_data"
    }
   ],
   "source": [
    "plt.plot(entropy_list,result)\n",
    "plt.show"
   ]
  },
  {
   "attachments": {},
   "cell_type": "markdown",
   "id": "37deda28",
   "metadata": {},
   "source": [
    "3. Alter the previous code to describe quantum state teleportation in a noisy channel.\n"
   ]
  },
  {
   "cell_type": "code",
   "execution_count": 36,
   "id": "75b82b96",
   "metadata": {},
   "outputs": [],
   "source": [
    "from qiskit.providers.aer.noise import NoiseModel\n",
    "from qiskit.providers.aer.noise.errors import pauli_error\n",
    "# Example error probabilities\n",
    "p_reset = 0.02\n",
    "p_gate1 = 0.05\n",
    "\n",
    "# QuantumError objects\n",
    "error_reset = pauli_error([('X', p_reset), ('I', 1 - p_reset)])\n",
    "error_gate1 = pauli_error([('X',p_gate1), ('I', 1 - p_gate1)])\n",
    "error_gate2 = error_gate1.tensor(error_gate1)\n",
    "\n",
    "# Add errors to noise model\n",
    "noise_bit_flip = NoiseModel()\n",
    "noise_bit_flip.add_all_qubit_quantum_error(error_reset, \"reset\")\n",
    "noise_bit_flip.add_all_qubit_quantum_error(error_gate1, [\"h\"])"
   ]
  },
  {
   "cell_type": "code",
   "execution_count": 37,
   "id": "7adc259e",
   "metadata": {},
   "outputs": [],
   "source": [
    "def protocol_noise(secret):\n",
    "    circuit5 = QuantumCircuit(3, 1)\n",
    "    Unitary(secret, circuit5.qubits[0], circuit5, dagger = 0)\n",
    "    circuit5.barrier()\n",
    "\n",
    "    #Ready to start teleportation protocol....Beam me up Scotty! (STR)\n",
    "\n",
    "    # Step 1: Alice and Bob create an entangled state of two quantum registers. \n",
    "    # Hadamard followed by CX generates the intended Bell state\n",
    "    circuit5.h(1)\n",
    "    circuit5.cx(1, 2)\n",
    "    circuit5.barrier()\n",
    "\n",
    "    #Step 2: Alice applies a CNOT gate on  q1  controlled by  q0\n",
    "    circuit5.cx(0, 1)\n",
    "\n",
    "    #Step 3: Alice applies a Hadamard gate to q0\n",
    "    circuit5.h(0)\n",
    "\n",
    "    #Step 4: Alice applies a measurement to both her registers\n",
    "    #step 5: Alice use a classical channel to communicate with Bob the results of the measurements\n",
    "    #Step 6: Bob applies specific gates to his quantum register q2. \n",
    "\n",
    "    #All of these steps are done simultaneously,using these quantum operators\n",
    "    #Why are there no actual measurments but transformations applied to Bob \n",
    "    #controled by the states in Alice registers?\n",
    "    circuit5.cx(1, 2)\n",
    "    circuit5.cz(0, 2)\n",
    "\n",
    "\n",
    "    #Let us verify if the teleportation s as worked by inverting the unitary \n",
    "    #transformation that generateb the secret state in Alice's register  but \n",
    "    #now applied to Bob's state. If everything went of it should reverse the \n",
    "    #state back to |0>\n",
    "    Unitary(secret, circuit5.qubits[2], circuit5, dagger=1)\n",
    "\n",
    "    circuit5.barrier()\n",
    "    circuit5.measure(2, 0)\n",
    "\n",
    "    backend = Aer.get_backend('qasm_simulator')\n",
    "    job = execute(circuit5, backend,basis_gates=noise_bit_flip.basis_gates,noise_model=noise_bit_flip, shots=1024)\n",
    "    result = job.result()\n",
    "\n",
    "    measurement_result = result.get_counts(circuit5)\n",
    "    return measurement_result \n",
    "    #perfect teleportation should provide all the counts in the state |0>"
   ]
  },
  {
   "attachments": {},
   "cell_type": "markdown",
   "id": "996b0a70",
   "metadata": {},
   "source": [
    "\n",
    "<b>Question 3:</b> How does the noise alter the fidelity between the input and output state?\n",
    "</div>\n"
   ]
  },
  {
   "cell_type": "code",
   "execution_count": 44,
   "id": "eaf1a35b",
   "metadata": {},
   "outputs": [],
   "source": [
    "def protocol_fidelity_noise(secret):\n",
    "    circuit5 = QuantumCircuit(3, 1)\n",
    "    Unitary(secret, circuit5.qubits[0], circuit5, dagger = 0)\n",
    "    \n",
    "    circuit5.barrier()\n",
    "    backend = Aer.get_backend('statevector_simulator')\n",
    "    state_i = execute(circuit5, backend,basis_gates=noise_bit_flip.basis_gates,noise_model=noise_bit_flip).result().get_statevector(circuit5)\n",
    "    circuit5.barrier()\n",
    "\n",
    "    #Ready to start teleportation protocol....Beam me up Scotty! (STR)\n",
    "\n",
    "    # Step 1: Alice and Bob create an entangled state of two quantum registers. \n",
    "    # Hadamard followed by CX generates the intended Bell state\n",
    "    circuit5.h(1)\n",
    "    circuit5.cx(1, 2)\n",
    "    circuit5.barrier()\n",
    "\n",
    "    #Step 2: Alice applies a CNOT gate on  q1  controlled by  q0\n",
    "    circuit5.cx(0, 1)\n",
    "\n",
    "    #Step 3: Alice applies a Hadamard gate to q0\n",
    "    circuit5.h(0)\n",
    "\n",
    "    #Step 4: Alice applies a measurement to both her registers\n",
    "    #step 5: Alice use a classical channel to communicate with Bob the results of the measurements\n",
    "    #Step 6: Bob applies specific gates to his quantum register q2. \n",
    "\n",
    "    #All of these steps are done simultaneously,using these quantum operators\n",
    "    #Why are there no actual measurments but transformations applied to Bob \n",
    "    #controled by the states in Alice registers?\n",
    "    circuit5.cx(1, 2)\n",
    "    circuit5.cz(0, 2)\n",
    "    circuit5.barrier()\n",
    "    backend = Aer.get_backend('statevector_simulator')\n",
    "    state_f = execute(circuit5, backend,basis_gates=noise_bit_flip.basis_gates,noise_model=noise_bit_flip).result().get_statevector(circuit5)\n",
    "    circuit5.barrier()\n",
    "\n",
    "\n",
    "    #Let us verify if the teleportation s as worked by inverting the unitary \n",
    "    #transformation that generateb the secret state in Alice's register  but \n",
    "    #now applied to Bob's state. If everything went of it should reverse the \n",
    "    #state back to |0>\n",
    "    Unitary(secret, circuit5.qubits[2], circuit5, dagger=1)\n",
    "\n",
    "    circuit5.barrier()\n",
    "    circuit5.measure(2, 0)\n",
    "\n",
    "    backend = Aer.get_backend('qasm_simulator')\n",
    "    job = execute(circuit5, backend,basis_gates=noise_bit_flip.basis_gates,noise_model=noise_bit_flip, shots=1024)\n",
    "    result = job.result()\n",
    "    fidelity=state_fidelity(state_i,state_f,validate=True)\n",
    "\n",
    "    return fidelity\n",
    "    #perfect teleportation should provide all the counts in the state |0>"
   ]
  },
  {
   "cell_type": "code",
   "execution_count": 45,
   "id": "83e878a0",
   "metadata": {},
   "outputs": [],
   "source": [
    "from itertools import permutations\n",
    "#Generate a secret state for Alice using a series of unitary gates on a qubit  initialized in the state |0⟩ . \n",
    "secret_list=[]\n",
    "for i in range(2,7):\n",
    "    secret=permutations(['x', 'y', 'h','z',], i)\n",
    "    for j in secret:\n",
    "        n=j[0]\n",
    "        for k in range(1,len(j)):\n",
    "            n+=j[k]\n",
    "        secret_list.append(n)\n"
   ]
  },
  {
   "cell_type": "code",
   "execution_count": 46,
   "id": "785b5fdf",
   "metadata": {},
   "outputs": [
    {
     "data": {
      "text/plain": [
       "<function matplotlib.pyplot.show(close=None, block=None)>"
      ]
     },
     "execution_count": 46,
     "metadata": {},
     "output_type": "execute_result"
    },
    {
     "data": {
      "image/png": "[encoded data removed]",
      "text/plain": [
       "<Figure size 640x480 with 1 Axes>"
      ]
     },
     "metadata": {},
     "output_type": "display_data"
    }
   ],
   "source": [
    "result_noise=[]\n",
    "result=[]\n",
    "for i in secret_list:\n",
    "    result_noise.append(protocol_fidelity_noise(i))\n",
    "    result.append(protocol_fidelity(i))\n",
    "\n",
    "\n",
    "plt.plot(secret_list,result)\n",
    "plt.plot(secret_list,result_noise)\n",
    "plt.show"
   ]
  },
  {
   "cell_type": "markdown",
   "id": "9aeadbbd",
   "metadata": {},
   "source": [
    "\n",
    "4. Compute the channel capacity in function of the noise level.\n",
    "\n"
   ]
  },
  {
   "cell_type": "markdown",
   "id": "8e74f44c",
   "metadata": {
    "ExecuteTime": {
     "end_time": "2023-03-11T10:45:22.757632Z",
     "start_time": "2023-03-11T10:45:22.468822Z"
    }
   },
   "source": [
    "# Quantum Key Distribution\n",
    "\n",
    "(adapted from: https://qiskit.org/textbook/ch-algorithms/quantum-key-distribution.html)\n",
    "\n",
    "When Alice and Bob need to send secret messages, they must encrypt the message to ensure its confidentiality. One approach to achieve that is to use symmetric-key cryptography, which requires Alice and Bob to share a secret key.\n",
    "\n",
    "However, if Alice and Bob want to share their secret key using a classical communication channel controlled by Eve, they have to trust that Eve will not copy the key. In contrast, if Alice and Bob use a quantum communication channel, which utilizes individual photons to represent a qubit, they can detect if Eve tries to read Bob's message before it reaches Alice. In this channel, the polarization of photons can be in one of two states.\n",
    "\n",
    "The protocol exploits the fundamental principle of quantum mechanics that measuring a qubit can change its state. If Alice sends Bob a qubit and Eve attempts to measure it before Bob, there is a possibility that Eve's measurement will change the qubit's state, and Bob will receive a different state than Alice sent. In this case, Bob now has a 50% chance of measuring 1, which signals to him and Alice that there is something wrong with their channel.\n",
    "\n",
    "To guarantee that an eavesdropper has a negligible chance of intercepting the key, the quantum key distribution protocol repeats this process multiple times."
   ]
  },
  {
   "cell_type": "markdown",
   "id": "a20ca3df",
   "metadata": {
    "ExecuteTime": {
     "end_time": "2023-03-11T10:45:22.757632Z",
     "start_time": "2023-03-11T10:45:22.468822Z"
    }
   },
   "source": [
    "## Protocol Overview  \n",
    "\n",
    "The protocol makes use of the fact that measuring a qubit can change its state. If Alice sends Bob a qubit, and an eavesdropper (Eve) tries to measure it before Bob does, there is a chance that Eve’s measurement will change the state of the qubit and Bob will not receive the qubit state Alice sent.  \n",
    "\n",
    "If Alice prepares a qubit in the state $|+\\rangle$ (`0` in the $X$-basis), and Bob measures it in the $X$-basis, Bob is sure to measure `0`:"
   ]
  },
  {
   "cell_type": "code",
   "execution_count": 161,
   "id": "d9d4b9af",
   "metadata": {
    "ExecuteTime": {
     "end_time": "2023-04-08T08:08:12.230330Z",
     "start_time": "2023-04-08T08:08:12.091634Z"
    }
   },
   "outputs": [
    {
     "data": {
      "image/png": "[encoded data removed]",
      "text/plain": [
       "<Figure size 436.286x200.667 with 1 Axes>"
      ]
     },
     "execution_count": 161,
     "metadata": {},
     "output_type": "execute_result"
    }
   ],
   "source": [
    "qc = QuantumCircuit(1,1)\n",
    "# Alice prepares qubit in state |+>\n",
    "qc.h(0)\n",
    "qc.barrier()\n",
    "# Alice now sends the qubit to Bob\n",
    "# who measures it in the X-basis\n",
    "qc.h(0)\n",
    "qc.measure(0,0)\n",
    "qc.draw(output='mpl')"
   ]
  },
  {
   "cell_type": "code",
   "execution_count": 162,
   "id": "3ef346fe",
   "metadata": {
    "ExecuteTime": {
     "end_time": "2023-04-08T08:08:12.341964Z",
     "start_time": "2023-04-08T08:08:12.232258Z"
    }
   },
   "outputs": [
    {
     "data": {
      "image/png": "[encoded data removed]",
      "text/plain": [
       "<Figure size 700x500 with 1 Axes>"
      ]
     },
     "execution_count": 162,
     "metadata": {},
     "output_type": "execute_result"
    }
   ],
   "source": [
    "# Simulate circuit\n",
    "aer_sim = Aer.get_backend('aer_simulator')\n",
    "job = aer_sim.run(qc, shots=1024)\n",
    "plot_histogram(job.result().get_counts())"
   ]
  },
  {
   "cell_type": "markdown",
   "id": "a4265850",
   "metadata": {
    "ExecuteTime": {
     "end_time": "2023-03-11T10:45:22.757632Z",
     "start_time": "2023-03-11T10:45:22.468822Z"
    }
   },
   "source": [
    "But if Eve tries to measure this qubit in the $Z$-basis before it reaches Bob, she will change the qubit's state from $|+\\rangle$ to either $|0\\rangle$ or $|1\\rangle$, and Bob is no longer certain to measure `0`:"
   ]
  },
  {
   "cell_type": "code",
   "execution_count": 163,
   "id": "37f9cf39",
   "metadata": {
    "ExecuteTime": {
     "end_time": "2023-04-08T08:08:12.546874Z",
     "start_time": "2023-04-08T08:08:12.344956Z"
    }
   },
   "outputs": [
    {
     "data": {
      "image/png": "[encoded data removed]",
      "text/plain": [
       "<Figure size 519.897x200.667 with 1 Axes>"
      ]
     },
     "execution_count": 163,
     "metadata": {},
     "output_type": "execute_result"
    }
   ],
   "source": [
    "qc = QuantumCircuit(1,1)\n",
    "# Alice prepares qubit in state |+>\n",
    "qc.h(0)\n",
    "# Alice now sends the qubit to Bob\n",
    "# but Eve intercepts and tries to read it\n",
    "qc.measure(0, 0)\n",
    "qc.barrier()\n",
    "# Eve then passes this on to Bob\n",
    "# who measures it in the X-basis\n",
    "qc.h(0)\n",
    "qc.measure(0,0)\n",
    "\n",
    "qc.draw(output='mpl')"
   ]
  },
  {
   "cell_type": "code",
   "execution_count": 164,
   "id": "150aa1ed",
   "metadata": {
    "ExecuteTime": {
     "end_time": "2023-04-08T08:08:12.706475Z",
     "start_time": "2023-04-08T08:08:12.549866Z"
    }
   },
   "outputs": [
    {
     "data": {
      "image/png": "[encoded data removed]",
      "text/plain": [
       "<Figure size 700x500 with 1 Axes>"
      ]
     },
     "execution_count": 164,
     "metadata": {},
     "output_type": "execute_result"
    }
   ],
   "source": [
    "# Simulate circuit\n",
    "aer_sim = Aer.get_backend('aer_simulator')\n",
    "job = aer_sim.run(qc)\n",
    "plot_histogram(job.result().get_counts())"
   ]
  },
  {
   "cell_type": "markdown",
   "id": "fc498177",
   "metadata": {
    "ExecuteTime": {
     "end_time": "2023-03-11T10:45:22.757632Z",
     "start_time": "2023-03-11T10:45:22.468822Z"
    }
   },
   "source": [
    "We can see here that Bob now has a 50% chance of measuring `1`, and if he does, he and Alice will know there is something wrong with their channel.\n",
    "\n",
    "The quantum key distribution protocol involves repeating this process enough times that an eavesdropper has a negligible chance of getting away with this interception. It is roughly as follows:\n",
    "\n",
    "**- Step 1**\n",
    "\n",
    "Alice chooses a string of random bits, e.g.:\n",
    "\n",
    "`1000101011010100`\n",
    "\n",
    "And a random choice of basis for each bit:\n",
    "\n",
    "`ZZXZXXXZXZXXXXXX`\n",
    "\n",
    "Alice keeps these two pieces of information private to herself. \n",
    "\n",
    "**- Step 2**\n",
    "\n",
    "Alice then encodes each bit onto a string of qubits using the basis she chose; this means each qubit is in one of the states $|0\\rangle$, $|1\\rangle$, $|+\\rangle$ or $|-\\rangle$, chosen at random. In this case, the string of qubits would look like this:\n",
    "\n",
    "$$ |1\\rangle|0\\rangle|+\\rangle|0\\rangle|-\\rangle|+\\rangle|-\\rangle|0\\rangle|-\\rangle|1\\rangle|+\\rangle|-\\rangle|+\\rangle|-\\rangle|+\\rangle|+\\rangle\n",
    "$$\n",
    "\n",
    "This is the message she sends to Bob.\n",
    "\n",
    "**- Step 3**\n",
    "\n",
    "Bob then measures each qubit at random, for example, he might use the bases:\n",
    "\n",
    "`XZZZXZXZXZXZZZXZ`\n",
    "\n",
    "And Bob keeps the measurement results private.\n",
    "\n",
    "**- Step 4**\n",
    "\n",
    "Bob and Alice then publicly share which basis they used for each qubit. If Bob measured a qubit in the same basis Alice prepared it in, they use this to form part of their shared secret key, otherwise they discard the information for that bit.\n",
    "\n",
    "**- Step 5**\n",
    "\n",
    "Finally, Bob and Alice share a random sample of their keys, and if the samples match, they can be sure (to a small margin of error) that their transmission is successful.\n"
   ]
  },
  {
   "cell_type": "markdown",
   "id": "e82944a2",
   "metadata": {
    "ExecuteTime": {
     "end_time": "2023-03-11T10:45:22.757632Z",
     "start_time": "2023-03-11T10:45:22.468822Z"
    }
   },
   "source": [
    "## Running the QKD protocol: Without Interception\n",
    "\n",
    "Let’s first see how the protocol works when no one is listening in, then we can see how Alice and Bob are able to detect an eavesdropper. \n",
    "\n",
    "**- Step 1**\n",
    "\n",
    "Alice generates her random set of bits:"
   ]
  },
  {
   "cell_type": "code",
   "execution_count": 165,
   "id": "18bef27d",
   "metadata": {
    "ExecuteTime": {
     "end_time": "2023-04-08T08:08:12.721407Z",
     "start_time": "2023-04-08T08:08:12.710455Z"
    }
   },
   "outputs": [
    {
     "name": "stdout",
     "output_type": "stream",
     "text": [
      "[0 1 1 0 1 1 1 1 1 1 1 0 0 1 0 0 0 0 0 1 0 1 1 0 0 1 1 1 1 0 1 0 1 0 1 1 0\n",
      " 1 1 0 0 1 0 1 1 1 1 1 0 1 0 1 1 1 1 0 1 0 0 1 1 0 1 0 1 0 0 0 0 0 1 1 0 0\n",
      " 0 1 1 0 1 0 0 1 0 1 1 1 1 1 1 0 1 1 0 0 1 0 0 1 1 0]\n"
     ]
    }
   ],
   "source": [
    "np.random.seed(seed=0)\n",
    "n = 100\n",
    "## Step 1\n",
    "# Alice generates bits\n",
    "alice_bits = randint(2, size=n)\n",
    "print(alice_bits)"
   ]
  },
  {
   "cell_type": "markdown",
   "id": "a0968c33",
   "metadata": {
    "ExecuteTime": {
     "end_time": "2023-03-11T10:45:22.757632Z",
     "start_time": "2023-03-11T10:45:22.468822Z"
    }
   },
   "source": [
    "To generate pseudo-random keys, we will use the `randint` function from numpy. To make sure you can reproduce the results on this page, we will set the seed to 0. In this example, Alice will send a message 100 qubits long."
   ]
  },
  {
   "cell_type": "markdown",
   "id": "39a07750",
   "metadata": {
    "ExecuteTime": {
     "end_time": "2023-03-11T10:45:22.757632Z",
     "start_time": "2023-03-11T10:45:22.468822Z"
    }
   },
   "source": [
    "At the moment, the set of bits '`alice_bits`' is only known to Alice. We will keep track of what information is only known to Alice, what information is only known to Bob, and what has been sent over Eve's channel in a table like this:\n",
    "\n",
    "| Alice's Knowledge |Over Eve's Channel| Bob's Knowledge |\n",
    "|:-----------------:|:----------------:|:---------------:|\n",
    "|     alice_bits    |                  |       &nbsp;    |"
   ]
  },
  {
   "cell_type": "markdown",
   "id": "4e40f4c9",
   "metadata": {
    "ExecuteTime": {
     "end_time": "2023-03-11T10:45:22.757632Z",
     "start_time": "2023-03-11T10:45:22.468822Z"
    }
   },
   "source": [
    "**- Step 2**\n",
    "\n",
    "Alice chooses to encode each bit on qubit in the $X$ or $Z$-basis at random, and stores the choice for each qubit in `alice_bases`. In this case, a `0` means \"prepare in the $Z$-basis\", and a `1` means \"prepare in the $X$-basis\":"
   ]
  },
  {
   "cell_type": "code",
   "execution_count": 166,
   "id": "41d5d5bc",
   "metadata": {
    "ExecuteTime": {
     "end_time": "2023-04-08T08:08:12.737364Z",
     "start_time": "2023-04-08T08:08:12.728406Z"
    }
   },
   "outputs": [
    {
     "name": "stdout",
     "output_type": "stream",
     "text": [
      "[1 0 0 1 0 0 0 1 1 0 1 0 0 0 0 0 1 0 1 0 1 1 1 1 1 0 1 1 1 1 0 1 1 0 0 1 0\n",
      " 0 0 0 1 1 0 0 1 0 1 1 1 1 0 0 0 1 0 1 1 1 0 1 0 0 1 0 1 1 0 0 1 0 1 0 1 0\n",
      " 1 0 1 0 0 0 1 0 1 0 1 0 0 0 0 0 1 0 0 1 0 0 0 1 0 0]\n"
     ]
    }
   ],
   "source": [
    "np.random.seed(seed=0)\n",
    "n = 100\n",
    "## Step 1\n",
    "#Alice generates bits\n",
    "alice_bits = randint(2, size=n)\n",
    "\n",
    "## Step 2\n",
    "# Create an array to tell us which qubits\n",
    "# are encoded in which bases\n",
    "alice_bases = randint(2, size=n)\n",
    "print(alice_bases)"
   ]
  },
  {
   "cell_type": "markdown",
   "id": "98b92929",
   "metadata": {
    "ExecuteTime": {
     "end_time": "2023-03-11T10:45:22.757632Z",
     "start_time": "2023-03-11T10:45:22.468822Z"
    }
   },
   "source": [
    "Alice also keeps this knowledge private:\n",
    "\n",
    "| Alice's Knowledge |Over Eve's Channel| Bob's Knowledge |\n",
    "|:-----------------:|:----------------:|:---------------:|\n",
    "|     alice_bits    |                  |                 |\n",
    "|    alice_bases    |                  |     &nbsp;      |\n",
    "\n",
    "The function `encode_message` below, creates a list of `QuantumCircuit`s, each representing a single qubit in Alice's message:"
   ]
  },
  {
   "cell_type": "code",
   "execution_count": 167,
   "id": "e818d317",
   "metadata": {
    "ExecuteTime": {
     "end_time": "2023-04-08T08:08:12.769278Z",
     "start_time": "2023-04-08T08:08:12.740356Z"
    }
   },
   "outputs": [],
   "source": [
    "def encode_message(bits, bases):\n",
    "    message = []\n",
    "    for i in range(n):\n",
    "        qc = QuantumCircuit(1,1)\n",
    "        if bases[i] == 0: # Prepare qubit in Z-basis\n",
    "            if bits[i] == 0:\n",
    "                pass \n",
    "            else:\n",
    "                qc.x(0)\n",
    "        else: # Prepare qubit in X-basis\n",
    "            if bits[i] == 0:\n",
    "                qc.h(0)\n",
    "            else:\n",
    "                qc.x(0)\n",
    "                qc.h(0)\n",
    "        qc.barrier()\n",
    "        message.append(qc)\n",
    "    return message\n",
    "    \n",
    "    \n",
    "    np.random.seed(seed=0)\n",
    "\n",
    "    \n",
    "    \n",
    "n = 100\n",
    "\n",
    "## Step 1\n",
    "# Alice generates bits\n",
    "alice_bits = randint(2, size=n)\n",
    "\n",
    "## Step 2\n",
    "# Create an array to tell us which qubits\n",
    "# are encoded in which bases\n",
    "alice_bases = randint(2, size=n)\n",
    "message = encode_message(alice_bits, alice_bases)"
   ]
  },
  {
   "cell_type": "markdown",
   "id": "d135250b",
   "metadata": {
    "ExecuteTime": {
     "end_time": "2023-03-11T10:45:22.757632Z",
     "start_time": "2023-03-11T10:45:22.468822Z"
    }
   },
   "source": [
    "We can see that the first bit in `alices_bits` is `0`, and the basis she encodes this in is the $X$-basis (represented by `1`):"
   ]
  },
  {
   "cell_type": "code",
   "execution_count": 168,
   "id": "0fe995fe",
   "metadata": {
    "ExecuteTime": {
     "end_time": "2023-04-08T08:08:12.785273Z",
     "start_time": "2023-04-08T08:08:12.774266Z"
    }
   },
   "outputs": [
    {
     "name": "stdout",
     "output_type": "stream",
     "text": [
      "bit = 1\n",
      "basis = 1\n"
     ]
    }
   ],
   "source": [
    "print('bit = %i' % alice_bits[0])\n",
    "print('basis = %i' % alice_bases[0])"
   ]
  },
  {
   "cell_type": "markdown",
   "id": "41d8b0b8",
   "metadata": {
    "ExecuteTime": {
     "end_time": "2023-03-11T10:45:22.757632Z",
     "start_time": "2023-03-11T10:45:22.468822Z"
    }
   },
   "source": [
    "And if we view the first circuit in `message` (representing the first qubit in Alice's message), we can verify that Alice has prepared a qubit in the state $|+\\rangle$:"
   ]
  },
  {
   "cell_type": "code",
   "execution_count": 169,
   "id": "a579abc6",
   "metadata": {
    "ExecuteTime": {
     "end_time": "2023-04-08T08:08:12.910893Z",
     "start_time": "2023-04-08T08:08:12.789226Z"
    }
   },
   "outputs": [
    {
     "data": {
      "image/png": "[encoded data removed]",
      "text/plain": [
       "<Figure size 352.675x200.667 with 1 Axes>"
      ]
     },
     "execution_count": 169,
     "metadata": {},
     "output_type": "execute_result"
    }
   ],
   "source": [
    "message[0].draw(output='mpl')"
   ]
  },
  {
   "cell_type": "markdown",
   "id": "00df6baa",
   "metadata": {
    "ExecuteTime": {
     "end_time": "2023-03-11T10:45:22.757632Z",
     "start_time": "2023-03-11T10:45:22.468822Z"
    }
   },
   "source": [
    "As another example, we can see that the fourth bit in `alice_bits` is `1`, and it is encoded in the $Z$-basis, Alice prepares the corresponding qubit in the state $|1\\rangle$:"
   ]
  },
  {
   "cell_type": "code",
   "execution_count": 170,
   "id": "2b2dc6ae",
   "metadata": {
    "ExecuteTime": {
     "end_time": "2023-04-08T08:08:13.020595Z",
     "start_time": "2023-04-08T08:08:12.915916Z"
    }
   },
   "outputs": [
    {
     "name": "stdout",
     "output_type": "stream",
     "text": [
      "bit = 0\n",
      "basis = 0\n"
     ]
    },
    {
     "data": {
      "image/png": "[encoded data removed]",
      "text/plain": [
       "<Figure size 185.453x200.667 with 1 Axes>"
      ]
     },
     "execution_count": 170,
     "metadata": {},
     "output_type": "execute_result"
    }
   ],
   "source": [
    "print('bit = %i' % alice_bits[4])\n",
    "print('basis = %i' % alice_bases[4])\n",
    "message[4].draw(output='mpl')"
   ]
  },
  {
   "cell_type": "markdown",
   "id": "0b24f187",
   "metadata": {
    "ExecuteTime": {
     "end_time": "2023-03-11T10:45:22.757632Z",
     "start_time": "2023-03-11T10:45:22.468822Z"
    }
   },
   "source": [
    "This message of qubits is then sent to Bob over Eve's quantum channel:\n",
    "\n",
    "| Alice's Knowledge |Over Eve's Channel| Bob's Knowledge |\n",
    "|:-----------------:|:----------------:|:---------------:|\n",
    "|     alice_bits    |                  |                 |\n",
    "|    alice_bases    |                  |                 |\n",
    "|      message      |     message      |     message     |"
   ]
  },
  {
   "cell_type": "markdown",
   "id": "a5071d7c",
   "metadata": {
    "ExecuteTime": {
     "end_time": "2023-03-11T10:45:22.757632Z",
     "start_time": "2023-03-11T10:45:22.468822Z"
    }
   },
   "source": [
    "**- Step 3**\n",
    "\n",
    "Bob then measures each qubit in the $X$ or $Z$-basis at random and stores this information:"
   ]
  },
  {
   "cell_type": "code",
   "execution_count": 171,
   "id": "b14bbb23",
   "metadata": {
    "ExecuteTime": {
     "end_time": "2023-04-08T08:08:13.051551Z",
     "start_time": "2023-04-08T08:08:13.023587Z"
    }
   },
   "outputs": [
    {
     "name": "stdout",
     "output_type": "stream",
     "text": [
      "[1 0 1 0 0 1 1 0 0 0 1 1 0 0 0 0 0 1 0 1 0 0 0 1 1 1 0 0 1 1 1 1 0 0 0 1 1\n",
      " 0 1 0 0 1 0 1 1 1 1 0 0 0 1 1 1 0 1 1 1 1 0 0 1 1 0 0 0 1 1 0 1 1 1 1 1 0\n",
      " 0 0 1 0 1 0 1 1 0 0 0 1 0 0 1 1 1 1 0 1 0 0 0 0 1 1]\n"
     ]
    }
   ],
   "source": [
    "np.random.seed(seed=0)\n",
    "n = 100\n",
    "\n",
    "## Step 1\n",
    "# Alice generates bits\n",
    "alice_bits = randint(2, size=n)\n",
    "\n",
    "## Step 2\n",
    "# Create an array to tell us which qubits\n",
    "# are encoded in which bases\n",
    "alice_bases = randint(2, size=n)\n",
    "message = encode_message(alice_bits, alice_bases)\n",
    "\n",
    "## Step 3\n",
    "# Decide which basis to measure in:\n",
    "bob_bases = randint(2, size=n)\n",
    "print(bob_bases)"
   ]
  },
  {
   "cell_type": "markdown",
   "id": "8feeff3b",
   "metadata": {
    "ExecuteTime": {
     "end_time": "2023-03-11T10:45:22.757632Z",
     "start_time": "2023-03-11T10:45:22.468822Z"
    }
   },
   "source": [
    "`bob_bases` stores Bob's choice for which basis he measures each qubit in.\n",
    "\n",
    "| Alice's Knowledge |Over Eve's Channel| Bob's Knowledge |\n",
    "|:-----------------:|:----------------:|:---------------:|\n",
    "|     alice_bits    |                  |                 |\n",
    "|    alice_bases    |                  |                 |\n",
    "|      message      |     message      |     message     |\n",
    "|                   |                  |    bob_bases    |\n",
    "\n",
    "Below, the function `measure_message` applies the corresponding measurement and simulates the result of measuring each qubit. We store the measurement results in `bob_results`."
   ]
  },
  {
   "cell_type": "code",
   "execution_count": 172,
   "id": "d44d9e47",
   "metadata": {
    "ExecuteTime": {
     "end_time": "2023-04-08T08:08:13.144605Z",
     "start_time": "2023-04-08T08:08:13.054512Z"
    }
   },
   "outputs": [],
   "source": [
    "def measure_message(message, bases):\n",
    "    backend = Aer.get_backend('aer_simulator')\n",
    "    measurements = []\n",
    "    for q in range(n):\n",
    "        if bases[q] == 0: # measuring in Z-basis\n",
    "            message[q].measure(0,0)\n",
    "        if bases[q] == 1: # measuring in X-basis\n",
    "            message[q].h(0)\n",
    "            message[q].measure(0,0)\n",
    "        result = backend.run(message[q], shots=1, memory=True).result()\n",
    "        measured_bit = int(result.get_memory()[0])\n",
    "        measurements.append(measured_bit)\n",
    "    return measurements\n",
    "\n",
    "\n",
    "np.random.seed(seed=0)\n",
    "n = 100\n",
    "\n",
    "## Step 1\n",
    "# Alice generates bits\n",
    "alice_bits = randint(2, size=n)\n",
    "\n",
    "## Step 2\n",
    "# Create an array to tell us which qubits\n",
    "# are encoded in which bases\n",
    "alice_bases = randint(2, size=n)\n",
    "message = encode_message(alice_bits, alice_bases)\n",
    "\n",
    "## Step 3\n",
    "# Decide which basis to measure in:\n",
    "bob_bases = randint(2, size=n)\n",
    "bob_results = measure_message(message, bob_bases)\n"
   ]
  },
  {
   "cell_type": "markdown",
   "id": "98c1a12f",
   "metadata": {
    "ExecuteTime": {
     "end_time": "2023-03-11T10:45:22.757632Z",
     "start_time": "2023-03-11T10:45:22.468822Z"
    }
   },
   "source": [
    "We can see that the circuit in message[0] (representing the 0th qubit) has had an  𝑋\n",
    " -measurement added to it by Bob. Since Bob has by chance chosen to measure in the same basis Alice encoded the qubit in, Bob is guaranteed to get the result `0`. For the 6th qubit (shown below), Bob's random choice of measurement is not the same as Alice's, and Bob's result has only a 50% chance of matching Alices'. "
   ]
  },
  {
   "cell_type": "code",
   "execution_count": 173,
   "id": "162a490a",
   "metadata": {
    "ExecuteTime": {
     "end_time": "2023-04-08T08:08:13.287861Z",
     "start_time": "2023-04-08T08:08:13.150228Z"
    }
   },
   "outputs": [
    {
     "data": {
      "image/png": "[encoded data removed]",
      "text/plain": [
       "<Figure size 436.286x200.667 with 1 Axes>"
      ]
     },
     "execution_count": 173,
     "metadata": {},
     "output_type": "execute_result"
    }
   ],
   "source": [
    "message[0].draw(output='mpl')"
   ]
  },
  {
   "cell_type": "code",
   "execution_count": 174,
   "id": "5aedca7d",
   "metadata": {
    "ExecuteTime": {
     "end_time": "2023-04-08T08:08:13.444799Z",
     "start_time": "2023-04-08T08:08:13.290869Z"
    }
   },
   "outputs": [
    {
     "data": {
      "image/png": "[encoded data removed]",
      "text/plain": [
       "<Figure size 436.286x200.667 with 1 Axes>"
      ]
     },
     "execution_count": 174,
     "metadata": {},
     "output_type": "execute_result"
    }
   ],
   "source": [
    "message[6].draw(output='mpl')"
   ]
  },
  {
   "cell_type": "code",
   "execution_count": 175,
   "id": "2b00a496",
   "metadata": {
    "ExecuteTime": {
     "end_time": "2023-04-08T08:08:13.460803Z",
     "start_time": "2023-04-08T08:08:13.447795Z"
    }
   },
   "outputs": [
    {
     "name": "stdout",
     "output_type": "stream",
     "text": [
      "[0, 1, 0, 0, 1, 0, 0, 1, 0, 1, 1, 0, 0, 1, 0, 0, 0, 0, 1, 0, 0, 0, 0, 0, 0, 1, 0, 1, 1, 0, 1, 0, 0, 0, 1, 1, 0, 1, 0, 0, 1, 1, 0, 1, 1, 0, 1, 0, 1, 1, 1, 1, 1, 1, 0, 0, 1, 0, 0, 1, 1, 0, 0, 0, 0, 0, 0, 0, 0, 1, 1, 1, 0, 0, 0, 1, 1, 0, 0, 0, 0, 1, 1, 1, 0, 1, 1, 1, 1, 0, 1, 0, 0, 0, 1, 0, 0, 1, 0, 1]\n"
     ]
    }
   ],
   "source": [
    "print(bob_results)"
   ]
  },
  {
   "cell_type": "markdown",
   "id": "4a1c1195",
   "metadata": {
    "ExecuteTime": {
     "end_time": "2023-03-11T10:45:22.757632Z",
     "start_time": "2023-03-11T10:45:22.468822Z"
    }
   },
   "source": [
    "Bob keeps his results private.\n",
    "\n",
    "| Alice's Knowledge | Over Eve's Channel | Bob's Knowledge |\n",
    "|:-----------------:|:------------------:|:---------------:|\n",
    "|     alice_bits    |                    |                 |\n",
    "|    alice_bases    |                    |                 |\n",
    "|      message      |       message      |     message     |\n",
    "|                   |                    |    bob_bases    |\n",
    "|                   |                    |   bob_results   |\n",
    "\n",
    "**- Step 4**\n",
    "\n",
    "After this, Alice reveals (through Eve's channel) which qubits were encoded in which basis: \n",
    "\n",
    "| Alice's Knowledge | Over Eve's Channel | Bob's Knowledge |\n",
    "|:-----------------:|:------------------:|:---------------:|\n",
    "|     alice_bits    |                    |                 |\n",
    "|    alice_bases    |                    |                 |\n",
    "|      message      |       message      |     message     |\n",
    "|                   |                    |    bob_bases    |\n",
    "|                   |                    |   bob_results   |\n",
    "|                   |     alice_bases    |   alice_bases   |\n",
    "\n",
    "And Bob reveals which basis he measured each qubit in:\n",
    "\n",
    "| Alice's Knowledge | Over Eve's Channel | Bob's Knowledge |\n",
    "|:-----------------:|:------------------:|:---------------:|\n",
    "|     alice_bits    |                    |                 |\n",
    "|    alice_bases    |                    |                 |\n",
    "|      message      |       message      |     message     |\n",
    "|                   |                    |    bob_bases    |\n",
    "|                   |                    |   bob_results   |\n",
    "|                   |     alice_bases    |   alice_bases   |\n",
    "|     bob_bases     |      bob_bases     |      &nbsp;     |\n",
    "\n",
    "If Bob happened to measure a bit in the same basis Alice prepared it in, this means the entry in `bob_results` will match the corresponding entry in `alice_bits`, and they can use that bit as part of their key. If they measured in different bases, Bob's result is random, and they both throw that entry away. Here is a function `remove_garbage` that does this for us:"
   ]
  },
  {
   "cell_type": "code",
   "execution_count": 176,
   "id": "df593222",
   "metadata": {
    "ExecuteTime": {
     "end_time": "2023-04-08T08:08:13.587378Z",
     "start_time": "2023-04-08T08:08:13.465747Z"
    }
   },
   "outputs": [
    {
     "name": "stdout",
     "output_type": "stream",
     "text": [
      "[0, 1, 1, 1, 1, 0, 1, 0, 0, 0, 0, 1, 0, 0, 0, 1, 1, 1, 0, 1, 0, 1, 1, 0, 1, 0, 0, 0, 0, 0, 0, 1, 0, 0, 1, 1, 0, 0, 0, 1, 1, 1, 1, 0, 0, 1, 0, 0]\n"
     ]
    }
   ],
   "source": [
    "def remove_garbage(a_bases, b_bases, bits):\n",
    "    good_bits = []\n",
    "    for q in range(n):\n",
    "        if a_bases[q] == b_bases[q]:\n",
    "            # If both used the same basis, add\n",
    "            # this to the list of 'good' bits\n",
    "            good_bits.append(bits[q])\n",
    "    return good_bits\n",
    "    \n",
    "    \n",
    "np.random.seed(seed=0)\n",
    "n = 100\n",
    "\n",
    "## Step 1\n",
    "# Alice generates bits\n",
    "alice_bits = randint(2, size=n)\n",
    "\n",
    "## Step 2\n",
    "# Create an array to tell us which qubits\n",
    "# are encoded in which bases\n",
    "alice_bases = randint(2, size=n)\n",
    "message = encode_message(alice_bits, alice_bases)\n",
    "\n",
    "## Step 3\n",
    "# Decide which basis to measure in:\n",
    "bob_bases = randint(2, size=n)\n",
    "bob_results = measure_message(message, bob_bases)\n",
    "\n",
    "## Step 4\n",
    "alice_key = remove_garbage(alice_bases, bob_bases, alice_bits)\n",
    "print(alice_key)"
   ]
  },
  {
   "cell_type": "markdown",
   "id": "7f461df5",
   "metadata": {
    "ExecuteTime": {
     "end_time": "2023-03-11T10:45:22.757632Z",
     "start_time": "2023-03-11T10:45:22.468822Z"
    }
   },
   "source": [
    "Alice and Bob both discard the useless bits, and use the remaining bits to form their secret keys.\n",
    "\n",
    "| Alice's Knowledge | Over Eve's Channel | Bob's Knowledge |\n",
    "|:-----------------:|:------------------:|:---------------:|\n",
    "|     alice_bits    |                    |                 |\n",
    "|    alice_bases    |                    |                 |\n",
    "|      message      |       message      |     message     |\n",
    "|                   |                    |    bob_bases    |\n",
    "|                   |                    |   bob_results   |\n",
    "|                   |     alice_bases    |   alice_bases   |\n",
    "|     bob_bases     |      bob_bases     |                 |\n",
    "|     alice_key     |                    |     &nbsp;      |"
   ]
  },
  {
   "cell_type": "code",
   "execution_count": 177,
   "id": "d3aee0ab",
   "metadata": {
    "ExecuteTime": {
     "end_time": "2023-04-08T08:08:13.713998Z",
     "start_time": "2023-04-08T08:08:13.591329Z"
    }
   },
   "outputs": [
    {
     "name": "stdout",
     "output_type": "stream",
     "text": [
      "[0, 1, 1, 1, 1, 0, 1, 0, 0, 0, 0, 1, 0, 0, 0, 1, 1, 1, 0, 1, 0, 1, 1, 0, 1, 0, 0, 0, 0, 0, 0, 1, 0, 0, 1, 1, 0, 0, 0, 1, 1, 1, 1, 0, 0, 1, 0, 0]\n"
     ]
    }
   ],
   "source": [
    "np.random.seed(seed=0)\n",
    "n = 100\n",
    "\n",
    "## Step 1\n",
    "# Alice generates bits\n",
    "alice_bits = randint(2, size=n)\n",
    "\n",
    "## Step 2\n",
    "# Create an array to tell us which qubits\n",
    "# are encoded in which bases\n",
    "alice_bases = randint(2, size=n)\n",
    "message = encode_message(alice_bits, alice_bases)\n",
    "\n",
    "## Step 3\n",
    "# Decide which basis to measure in:\n",
    "bob_bases = randint(2, size=n)\n",
    "bob_results = measure_message(message, bob_bases)\n",
    "\n",
    "## Step 4\n",
    "alice_key = remove_garbage(alice_bases, bob_bases, alice_bits)\n",
    "bob_key = remove_garbage(alice_bases, bob_bases, bob_results)\n",
    "print(bob_key)"
   ]
  },
  {
   "cell_type": "markdown",
   "id": "08baeee8",
   "metadata": {
    "ExecuteTime": {
     "end_time": "2023-03-11T10:45:22.757632Z",
     "start_time": "2023-03-11T10:45:22.468822Z"
    }
   },
   "source": [
    "| Alice's Knowledge | Over Eve's Channel | Bob's Knowledge |\n",
    "|:-----------------:|:------------------:|:---------------:|\n",
    "|     alice_bits    |                    |                 |\n",
    "|    alice_bases    |                    |                 |\n",
    "|      message      |       message      |     message     |\n",
    "|                   |                    |    bob_bases    |\n",
    "|                   |                    |   bob_results   |\n",
    "|                   |     alice_bases    |   alice_bases   |\n",
    "|     bob_bases     |      bob_bases     |                 |\n",
    "|     alice_key     |                    |     bob_key     |\n",
    "\n",
    "\n"
   ]
  },
  {
   "cell_type": "markdown",
   "id": "b871a455",
   "metadata": {
    "ExecuteTime": {
     "end_time": "2023-03-11T10:45:22.757632Z",
     "start_time": "2023-03-11T10:45:22.468822Z"
    }
   },
   "source": [
    "**- Step 5**\n",
    "\n",
    "Finally, Bob and Alice compare a random selection of the bits in their keys to make sure the protocol has worked correctly:"
   ]
  },
  {
   "cell_type": "code",
   "execution_count": 178,
   "id": "e93ccaac",
   "metadata": {
    "ExecuteTime": {
     "end_time": "2023-04-08T08:08:13.824376Z",
     "start_time": "2023-04-08T08:08:13.715993Z"
    }
   },
   "outputs": [
    {
     "name": "stdout",
     "output_type": "stream",
     "text": [
      "  bob_sample = [0, 1, 0, 1, 1, 0, 0, 0, 0, 0, 0, 1, 0, 0, 0]\n",
      "alice_sample = [0, 1, 0, 1, 1, 0, 0, 0, 0, 0, 0, 1, 0, 0, 0]\n"
     ]
    }
   ],
   "source": [
    "def sample_bits(bits, selection):\n",
    "    sample = []\n",
    "    for i in selection:\n",
    "        # use np.mod to make sure the\n",
    "        # bit we sample is always in \n",
    "        # the list range\n",
    "        i = np.mod(i, len(bits))\n",
    "        # pop(i) removes the element of the\n",
    "        # list at index 'i'\n",
    "        sample.append(bits.pop(i))\n",
    "    return sample\n",
    "    \n",
    "    \n",
    "np.random.seed(seed=0)\n",
    "n = 100\n",
    "\n",
    "## Step 1\n",
    "# Alice generates bits\n",
    "alice_bits = randint(2, size=n)\n",
    "\n",
    "## Step 2\n",
    "# Create an array to tell us which qubits\n",
    "# are encoded in which bases\n",
    "alice_bases = randint(2, size=n)\n",
    "message = encode_message(alice_bits, alice_bases)\n",
    "\n",
    "## Step 3\n",
    "# Decide which basis to measure in:\n",
    "bob_bases = randint(2, size=n)\n",
    "bob_results = measure_message(message, bob_bases)\n",
    "\n",
    "## Step 4\n",
    "alice_key = remove_garbage(alice_bases, bob_bases, alice_bits)\n",
    "bob_key = remove_garbage(alice_bases, bob_bases, bob_results)\n",
    "\n",
    "## Step 5\n",
    "sample_size = 15\n",
    "bit_selection = randint(n, size=sample_size)\n",
    "\n",
    "bob_sample = sample_bits(bob_key, bit_selection)\n",
    "print(\"  bob_sample = \" + str(bob_sample))\n",
    "alice_sample = sample_bits(alice_key, bit_selection)\n",
    "print(\"alice_sample = \"+ str(alice_sample))"
   ]
  },
  {
   "cell_type": "markdown",
   "id": "7499e1ce",
   "metadata": {
    "ExecuteTime": {
     "end_time": "2023-03-11T10:45:22.757632Z",
     "start_time": "2023-03-11T10:45:22.468822Z"
    }
   },
   "source": [
    "Alice and Bob both broadcast these publicly, and remove them from their keys as they are no longer secret.\n",
    "\n",
    "| Alice's Knowledge | Over Eve's Channel | Bob's Knowledge |\n",
    "|:-----------------:|:------------------:|:---------------:|\n",
    "|     alice_bits    |                    |                 |\n",
    "|    alice_bases    |                    |                 |\n",
    "|      message      |       message      |     message     |\n",
    "|                   |                    |    bob_bases    |\n",
    "|                   |                    |   bob_results   |\n",
    "|                   |     alice_bases    |   alice_bases   |\n",
    "|     bob_bases     |      bob_bases     |                 |\n",
    "|     alice_key     |                    |     bob_key     |\n",
    "|     bob_sample    |     bob_sample     |    bob_sample   |\n",
    "|    alice_sample   |    alice_sample    |   alice_sample  |\n",
    "\n",
    "\n",
    "If the protocol has worked correctly without interference, their samples should match.\n",
    "\n",
    "If their samples match, it means (with high probability) `alice_key == bob_key`. They now share a secret key they can use to encrypt their messages!\n",
    "\n",
    "| Alice's Knowledge | Over Eve's Channel | Bob's Knowledge |\n",
    "|:-----------------:|:------------------:|:---------------:|\n",
    "|     alice_bits    |                    |                 |\n",
    "|    alice_bases    |                    |                 |\n",
    "|      message      |       message      |     message     |\n",
    "|                   |                    |    bob_bases    |\n",
    "|                   |                    |   bob_results   |\n",
    "|                   |     alice_bases    |   alice_bases   |\n",
    "|     bob_bases     |      bob_bases     |                 |\n",
    "|     alice_key     |                    |     bob_key     |\n",
    "|     bob_sample    |     bob_sample     |    bob_sample   |\n",
    "|    alice_sample   |    alice_sample    |   alice_sample  |\n",
    "|     shared_key    |                    |    shared_key   |"
   ]
  },
  {
   "cell_type": "code",
   "execution_count": 179,
   "id": "98af915f",
   "metadata": {
    "ExecuteTime": {
     "end_time": "2023-04-08T08:08:13.855277Z",
     "start_time": "2023-04-08T08:08:13.831303Z"
    }
   },
   "outputs": [
    {
     "data": {
      "text/plain": [
       "True"
      ]
     },
     "execution_count": 179,
     "metadata": {},
     "output_type": "execute_result"
    }
   ],
   "source": [
    "bob_sample == alice_sample"
   ]
  },
  {
   "cell_type": "code",
   "execution_count": 180,
   "id": "4ed85f1e",
   "metadata": {
    "ExecuteTime": {
     "end_time": "2023-04-08T08:08:13.871223Z",
     "start_time": "2023-04-08T08:08:13.858227Z"
    }
   },
   "outputs": [
    {
     "name": "stdout",
     "output_type": "stream",
     "text": [
      "[1, 1, 0, 1, 0, 0, 1, 0, 1, 1, 1, 0, 1, 1, 1, 0, 1, 0, 0, 1, 0, 0, 1, 1, 0, 0, 0, 1, 1, 0, 1, 0, 0]\n",
      "[1, 1, 0, 1, 0, 0, 1, 0, 1, 1, 1, 0, 1, 1, 1, 0, 1, 0, 0, 1, 0, 0, 1, 1, 0, 0, 0, 1, 1, 0, 1, 0, 0]\n",
      "key length = 33\n"
     ]
    }
   ],
   "source": [
    "print(bob_key)\n",
    "print(alice_key)\n",
    "print(\"key length = %i\" % len(alice_key))"
   ]
  },
  {
   "cell_type": "markdown",
   "id": "87fcbb46",
   "metadata": {
    "ExecuteTime": {
     "end_time": "2023-03-11T10:45:22.757632Z",
     "start_time": "2023-03-11T10:45:22.468822Z"
    }
   },
   "source": [
    "## Running the QKD protocol: With Interception\n",
    "Let’s now see how Alice and Bob can tell if Eve has been trying to listen in on their quantum message. We repeat the same steps as without interference, but before Bob receives his qubits, Eve will try and extract some information from them. Let's set a different seed so we get a specific set of reproducible 'random' results."
   ]
  },
  {
   "cell_type": "markdown",
   "id": "44bb591d",
   "metadata": {
    "ExecuteTime": {
     "end_time": "2023-03-11T10:45:22.757632Z",
     "start_time": "2023-03-11T10:45:22.468822Z"
    }
   },
   "source": [
    "**- Step 1**\n",
    "\n",
    "Alice generates her set of random bits:"
   ]
  },
  {
   "cell_type": "code",
   "execution_count": 181,
   "id": "c5a5a5f3",
   "metadata": {
    "ExecuteTime": {
     "end_time": "2023-04-08T08:08:13.887149Z",
     "start_time": "2023-04-08T08:08:13.873187Z"
    }
   },
   "outputs": [
    {
     "name": "stdout",
     "output_type": "stream",
     "text": [
      "[0 0 1 1 0 0 0 1 1 1 0 1 1 1 0 1 1 0 0 0 0 1 1 0 0 0 1 0 0 0 0 1 0 1 1 0 1\n",
      " 0 0 1 1 0 0 1 0 1 0 1 1 1 1 0 1 0 0 1 1 1 0 0 0 1 0 0 0 1 0 0 1 1 0 0 1 1\n",
      " 1 0 1 1 1 1 1 1 0 1 0 0 1 1 0 1 0 0 0 0 0 1 1 0 1 1]\n"
     ]
    }
   ],
   "source": [
    "np.random.seed(seed=3)\n",
    "## Step 1\n",
    "alice_bits = randint(2, size=n)\n",
    "print(alice_bits)"
   ]
  },
  {
   "cell_type": "markdown",
   "id": "38ac7349",
   "metadata": {
    "ExecuteTime": {
     "end_time": "2023-03-11T10:45:22.757632Z",
     "start_time": "2023-03-11T10:45:22.468822Z"
    }
   },
   "source": [
    "**- Step 2**\n",
    "\n",
    "Alice encodes these in the $Z$ and $X$-bases at random, and sends these to Bob through Eve's quantum channel:"
   ]
  },
  {
   "cell_type": "code",
   "execution_count": 182,
   "id": "ffe3793e",
   "metadata": {
    "ExecuteTime": {
     "end_time": "2023-04-08T08:08:13.919105Z",
     "start_time": "2023-04-08T08:08:13.891138Z"
    }
   },
   "outputs": [
    {
     "name": "stdout",
     "output_type": "stream",
     "text": [
      "[1 0 0 1 1 0 1 0 0 0 0 0 0 0 0 0 1 0 0 0 0 1 1 1 1 0 0 1 1 0 0 1 1 1 1 0 0\n",
      " 1 1 0 0 0 0 0 0 0 0 1 1 0 0 0 1 0 1 1 1 0 0 1 0 1 0 1 1 0 0 1 0 0 1 1 1 1\n",
      " 1 0 0 0 0 0 1 1 1 0 0 0 0 0 0 1 0 1 0 0 0 1 0 1 1 1]\n"
     ]
    }
   ],
   "source": [
    "np.random.seed(seed=3)\n",
    "## Step 1\n",
    "alice_bits = randint(2, size=n)\n",
    "## Step 2\n",
    "alice_bases = randint(2, size=n)\n",
    "message = encode_message(alice_bits, alice_bases)\n",
    "print(alice_bases)"
   ]
  },
  {
   "cell_type": "markdown",
   "id": "aefd51fd",
   "metadata": {
    "ExecuteTime": {
     "end_time": "2023-03-11T10:45:22.757632Z",
     "start_time": "2023-03-11T10:45:22.468822Z"
    }
   },
   "source": [
    "In this case, the first qubit in Alice's message is in the state $|+\\rangle$:"
   ]
  },
  {
   "cell_type": "code",
   "execution_count": 183,
   "id": "d832148c",
   "metadata": {
    "ExecuteTime": {
     "end_time": "2023-04-08T08:09:09.894419Z",
     "start_time": "2023-04-08T08:09:09.788700Z"
    }
   },
   "outputs": [
    {
     "data": {
      "image/png": "[encoded data removed]",
      "text/plain": [
       "<Figure size 269.064x200.667 with 1 Axes>"
      ]
     },
     "execution_count": 183,
     "metadata": {},
     "output_type": "execute_result"
    }
   ],
   "source": [
    "message[0].draw(output='mpl')"
   ]
  },
  {
   "cell_type": "markdown",
   "id": "4bd0d83e",
   "metadata": {
    "ExecuteTime": {
     "end_time": "2023-03-11T10:45:22.757632Z",
     "start_time": "2023-03-11T10:45:22.468822Z"
    }
   },
   "source": [
    "Oh no! Bob's key and Alice's key do not match. We know this is because Eve tried to read the message between steps 2 and 3, and changed the qubits' states. For all Alice and Bob know, this could be due to noise in the channel, but either way they must throw away all their results and try again- Eve's interception attempt has failed.\n",
    "\n",
    "## Risk Analysis\n",
    "\n",
    "For this type of interception, in which Eve measures all the qubits, there is a small chance that Bob and Alice's samples could match, and Alice sends her vulnerable message through Eve's channel. Let's calculate that chance and see how risky quantum key distribution is.\n",
    "\n",
    "- For Alice and Bob to use a qubit's result, they must both have chosen the same basis. If Eve chooses this basis too, she will successfully intercept this bit without introducing any error. There is a 50% chance of this happening.\n",
    "- If Eve chooses the *wrong* basis, i.e. a different basis to Alice and Bob, there is still a 50% chance Bob will measure the value Alice was trying to send. In this case, the interception also goes undetected.\n",
    "- But if Eve chooses the *wrong* basis, i.e. a different basis to Alice and Bob, there is a 50% chance Bob will not measure the value Alice was trying to send, and this *will* introduce an error into their keys.\n",
    "\n",
    "![risk probability tree](images/qkd_risk.svg)\n",
    "\n",
    "If Alice and Bob compare 1 bit from their keys, the probability the bits will match is $0.75$, and if so they will not notice Eve's interception. If they measure 2 bits, there is a $0.75^2 = 0.5625$ chance of the interception not being noticed. We can see that the probability of Eve going undetected can be calculated from the number of bits ($x$) Alice and Bob chose to compare:\n",
    "\n",
    "$$ P(\\text{undetected}) = 0.75^x $$\n",
    "\n",
    "If we decide to compare 15 bits as we did above, there is a 1.3% chance Eve will be undetected. If this is too risky for us, we could compare 50 bits instead, and have a 0.00006% chance of being spied upon unknowingly.\n",
    "\n",
    "You can retry the protocol again by running the cell below. Try changing `sample_size` to something low and see how easy it is for Eve to intercept Alice and Bob's keys."
   ]
  },
  {
   "cell_type": "code",
   "execution_count": 190,
   "id": "af983381",
   "metadata": {
    "ExecuteTime": {
     "end_time": "2023-04-08T08:08:14.787816Z",
     "start_time": "2023-04-08T08:08:14.619256Z"
    }
   },
   "outputs": [
    {
     "name": "stdout",
     "output_type": "stream",
     "text": [
      "Eve's interference was detected.\n"
     ]
    }
   ],
   "source": [
    "n = 100\n",
    "# Step 1\n",
    "alice_bits = randint(2, size=n)\n",
    "alice_bases = randint(2, size=n)\n",
    "# Step 2\n",
    "message = encode_message(alice_bits, alice_bases)\n",
    "# Interception!\n",
    "eve_bases = randint(2, size=n)\n",
    "intercepted_message = measure_message(message, eve_bases)\n",
    "# Step 3\n",
    "bob_bases = randint(2, size=n)\n",
    "bob_results = measure_message(message, bob_bases)\n",
    "# Step 4\n",
    "bob_key = remove_garbage(alice_bases, bob_bases, bob_results)\n",
    "alice_key = remove_garbage(alice_bases, bob_bases, alice_bits)\n",
    "# Step 5\n",
    "sample_size = 15 # Change this to something lower and see if \n",
    "                 # Eve can intercept the message without Alice\n",
    "                 # and Bob finding out\n",
    "bit_selection = randint(n, size=sample_size)\n",
    "bob_sample = sample_bits(bob_key, bit_selection)\n",
    "alice_sample = sample_bits(alice_key, bit_selection)\n",
    "\n",
    "if bob_sample != alice_sample:\n",
    "    print(\"Eve's interference was detected.\")\n",
    "else:\n",
    "    print(\"Eve went undetected!\")"
   ]
  },
  {
   "attachments": {},
   "cell_type": "markdown",
   "id": "1a0ebac5",
   "metadata": {
    "ExecuteTime": {
     "end_time": "2023-03-11T10:45:22.757632Z",
     "start_time": "2023-03-11T10:45:22.468822Z"
    }
   },
   "source": [
    "**Exercises**\n",
    "\n",
    "5. Test the QKD protocol with a noise model.\n"
   ]
  },
  {
   "cell_type": "code",
   "execution_count": 201,
   "id": "e827a7ac",
   "metadata": {},
   "outputs": [],
   "source": [
    "from qiskit.providers.aer.noise import NoiseModel\n",
    "from qiskit.providers.aer.noise.errors import pauli_error\n",
    "# Example error probabilities\n",
    "p_reset = 0.04\n",
    "p_gate1 = 0.5\n",
    "\n",
    "# QuantumError objects\n",
    "error_reset = pauli_error([('X', p_reset), ('I', 1 - p_reset)])\n",
    "error_gate1 = pauli_error([('X',p_gate1), ('I', 1 - p_gate1)])\n",
    "error_gate2 = error_gate1.tensor(error_gate1)\n",
    "\n",
    "# Add errors to noise model\n",
    "noise_bit_flip = NoiseModel()\n",
    "noise_bit_flip.add_all_qubit_quantum_error(error_reset, \"reset\")\n",
    "noise_bit_flip.add_all_qubit_quantum_error(error_gate1, [\"h\"])"
   ]
  },
  {
   "cell_type": "code",
   "execution_count": 202,
   "id": "17482ad3",
   "metadata": {},
   "outputs": [],
   "source": [
    "def measure_message(message, bases):\n",
    "    backend = Aer.get_backend('aer_simulator')\n",
    "    measurements = []\n",
    "    for q in range(n):\n",
    "        if bases[q] == 0: # measuring in Z-basis\n",
    "            message[q].measure(0,0)\n",
    "        if bases[q] == 1: # measuring in X-basis\n",
    "            message[q].h(0)\n",
    "            message[q].measure(0,0)\n",
    "        result = backend.run(message[q], shots=1, memory=True,basis_gates=noise_bit_flip.basis_gates,noise_model=noise_bit_flip).result()\n",
    "        measured_bit = int(result.get_memory()[0])\n",
    "        measurements.append(measured_bit)\n",
    "    return measurements"
   ]
  },
  {
   "cell_type": "code",
   "execution_count": 203,
   "id": "926f5405",
   "metadata": {},
   "outputs": [
    {
     "name": "stdout",
     "output_type": "stream",
     "text": [
      "[0 0 1 1 0 0 0 1 1 1 0 1 1 1 0 1 1 0 0 0 0 1 1 0 0 0 1 0 0 0 0 1 0 1 1 0 1\n",
      " 0 0 1 1 0 0 1 0 1 0 1 1 1 1 0 1 0 0 1 1 1 0 0 0 1 0 0 0 1 0 0 1 1 0 0 1 1\n",
      " 1 0 1 1 1 1 1 1 0 1 0 0 1 1 0 1 0 0 0 0 0 1 1 0 1 1]\n"
     ]
    }
   ],
   "source": [
    "np.random.seed(seed=3)\n",
    "## Step 1\n",
    "alice_bits = randint(2, size=n)\n",
    "print(alice_bits)"
   ]
  },
  {
   "cell_type": "code",
   "execution_count": 204,
   "id": "43855b2e",
   "metadata": {},
   "outputs": [
    {
     "name": "stdout",
     "output_type": "stream",
     "text": [
      "[1 0 0 1 1 0 1 0 0 0 0 0 0 0 0 0 1 0 0 0 0 1 1 1 1 0 0 1 1 0 0 1 1 1 1 0 0\n",
      " 1 1 0 0 0 0 0 0 0 0 1 1 0 0 0 1 0 1 1 1 0 0 1 0 1 0 1 1 0 0 1 0 0 1 1 1 1\n",
      " 1 0 0 0 0 0 1 1 1 0 0 0 0 0 0 1 0 1 0 0 0 1 0 1 1 1]\n"
     ]
    }
   ],
   "source": [
    "np.random.seed(seed=3)\n",
    "## Step 1\n",
    "alice_bits = randint(2, size=n)\n",
    "## Step 2\n",
    "alice_bases = randint(2, size=n)\n",
    "message = encode_message(alice_bits, alice_bases)\n",
    "print(alice_bases)"
   ]
  },
  {
   "cell_type": "code",
   "execution_count": 205,
   "id": "72803186",
   "metadata": {},
   "outputs": [
    {
     "data": {
      "image/png": "[encoded data removed]",
      "text/plain": [
       "<Figure size 269.064x200.667 with 1 Axes>"
      ]
     },
     "execution_count": 205,
     "metadata": {},
     "output_type": "execute_result"
    }
   ],
   "source": [
    "message[0].draw(output='mpl')"
   ]
  },
  {
   "cell_type": "code",
   "execution_count": 206,
   "id": "8189814e",
   "metadata": {},
   "outputs": [
    {
     "name": "stdout",
     "output_type": "stream",
     "text": [
      "[1, 0, 0, 1, 0, 0, 1, 1, 1, 1, 0, 1, 1, 1, 0, 1, 1, 0, 0, 0, 0, 1, 1, 1, 1, 1, 1, 0, 0, 1, 0, 0, 1, 1, 0, 0, 1, 1, 0, 1, 0, 0, 1, 0, 1, 1, 0, 1, 1, 1, 0, 0, 1, 0, 1, 0, 0, 1, 0, 1, 0, 1, 1, 1, 1, 1, 0, 0, 0, 1, 0, 0, 0, 1, 1, 1, 1, 1, 1, 1, 1, 0, 0, 1, 0, 1, 0, 1, 0, 0, 0, 1, 0, 0, 0, 1, 1, 1, 1, 0]\n"
     ]
    },
    {
     "data": {
      "image/png": "[encoded data removed]",
      "text/plain": [
       "<Figure size 352.675x200.667 with 1 Axes>"
      ]
     },
     "execution_count": 206,
     "metadata": {},
     "output_type": "execute_result"
    }
   ],
   "source": [
    "### Interception!\n",
    "\n",
    "np.random.seed(seed=3)\n",
    "## Step 1\n",
    "alice_bits = randint(2, size=n)\n",
    "## Step 2\n",
    "alice_bases = randint(2, size=n)\n",
    "message = encode_message(alice_bits, alice_bases)\n",
    "## Interception!!\n",
    "eve_bases = randint(2, size=n)\n",
    "intercepted_message = measure_message(message, eve_bases)\n",
    "print(intercepted_message)\n",
    "\n",
    "message[0].draw(output='mpl')\n"
   ]
  },
  {
   "cell_type": "code",
   "execution_count": 207,
   "id": "128952b5",
   "metadata": {},
   "outputs": [
    {
     "data": {
      "image/png": "[encoded data removed]",
      "text/plain": [
       "<Figure size 519.897x200.667 with 1 Axes>"
      ]
     },
     "execution_count": 207,
     "metadata": {},
     "output_type": "execute_result"
    }
   ],
   "source": [
    "\n",
    "np.random.seed(seed=3)\n",
    "## Step 1\n",
    "alice_bits = randint(2, size=n)\n",
    "## Step 2\n",
    "alice_bases = randint(2, size=n)\n",
    "message = encode_message(alice_bits, alice_bases)\n",
    "## Interception!!\n",
    "eve_bases = randint(2, size=n)\n",
    "intercepted_message = measure_message(message, eve_bases)\n",
    "## Step 3\n",
    "bob_bases = randint(2, size=n)\n",
    "bob_results = measure_message(message, bob_bases)\n",
    "message[0].draw(output='mpl')\n",
    "\n"
   ]
  },
  {
   "cell_type": "code",
   "execution_count": 208,
   "id": "b3eca563",
   "metadata": {},
   "outputs": [],
   "source": [
    "\n",
    "\n",
    "np.random.seed(seed=3)\n",
    "## Step 1\n",
    "alice_bits = randint(2, size=n)\n",
    "## Step 2\n",
    "alice_bases = randint(2, size=n)\n",
    "message = encode_message(alice_bits, alice_bases)\n",
    "## Interception!!\n",
    "eve_bases = randint(2, size=n)\n",
    "intercepted_message = measure_message(message, eve_bases)\n",
    "## Step 3\n",
    "bob_bases = randint(2, size=n)\n",
    "bob_results = measure_message(message, bob_bases)\n",
    "## Step 4\n",
    "bob_key = remove_garbage(alice_bases, bob_bases, bob_results)\n",
    "alice_key = remove_garbage(alice_bases, bob_bases, alice_bits)\n"
   ]
  },
  {
   "cell_type": "code",
   "execution_count": 209,
   "id": "aee19637",
   "metadata": {},
   "outputs": [
    {
     "name": "stdout",
     "output_type": "stream",
     "text": [
      "  bob_sample = [1, 1, 1, 0, 1, 1, 0, 1, 0, 0, 0, 1, 0, 1, 1]\n",
      "alice_sample = [1, 1, 0, 0, 1, 0, 0, 0, 0, 0, 0, 1, 0, 0, 0]\n"
     ]
    },
    {
     "data": {
      "text/plain": [
       "False"
      ]
     },
     "execution_count": 209,
     "metadata": {},
     "output_type": "execute_result"
    }
   ],
   "source": [
    "\n",
    "np.random.seed(seed=3)\n",
    "## Step 1\n",
    "alice_bits = randint(2, size=n)\n",
    "## Step 2\n",
    "alice_bases = randint(2, size=n)\n",
    "message = encode_message(alice_bits, alice_bases)\n",
    "## Interception!!\n",
    "eve_bases = randint(2, size=n)\n",
    "intercepted_message = measure_message(message, eve_bases)\n",
    "## Step 3\n",
    "bob_bases = randint(2, size=n)\n",
    "bob_results = measure_message(message, bob_bases)\n",
    "## Step 4\n",
    "bob_key = remove_garbage(alice_bases, bob_bases, bob_results)\n",
    "alice_key = remove_garbage(alice_bases, bob_bases, alice_bits)\n",
    "## Step 5\n",
    "sample_size = 15\n",
    "bit_selection = randint(n, size=sample_size)\n",
    "bob_sample = sample_bits(bob_key, bit_selection)\n",
    "print(\"  bob_sample = \" + str(bob_sample))\n",
    "alice_sample = sample_bits(alice_key, bit_selection)\n",
    "print(\"alice_sample = \"+ str(alice_sample))\n",
    "bob_sample == alice_sample"
   ]
  },
  {
   "attachments": {},
   "cell_type": "markdown",
   "id": "d6d4e557",
   "metadata": {},
   "source": [
    "\n",
    "\n",
    "<b>Question 4:</b> Is it possible to distinguish noise from evesdropping? If so, how?\n",
    "</div>\n"
   ]
  },
  {
   "cell_type": "markdown",
   "id": "02abfdb1",
   "metadata": {
    "ExecuteTime": {
     "end_time": "2023-02-08T17:01:24.291646Z",
     "start_time": "2023-02-08T17:00:39.894891Z"
    }
   },
   "source": [
    "<div class=\"alert alert-success\">\n",
    "<b>Today's afterthoughts:</b>\n",
    "\n",
    "What has changed, if anything, in your perspective about quantum measurements after this notebook?\n",
    "</div>"
   ]
  }
 ],
 "metadata": {
  "hide_input": false,
  "kernelspec": {
   "display_name": "Python 3 (ipykernel)",
   "language": "python",
   "name": "python3"
  },
  "language_info": {
   "codemirror_mode": {
    "name": "ipython",
    "version": 3
   },
   "file_extension": ".py",
   "mimetype": "text/x-python",
   "name": "python",
   "nbconvert_exporter": "python",
   "pygments_lexer": "ipython3",
   "version": "3.10.9"
  },
  "nbTranslate": {
   "displayLangs": [
    "*"
   ],
   "hotkey": "alt-t",
   "langInMainMenu": true,
   "sourceLang": "en",
   "targetLang": "fr",
   "useGoogleTranslate": true
  },
  "toc": {
   "base_numbering": 1,
   "nav_menu": {},
   "number_sections": true,
   "sideBar": true,
   "skip_h1_title": false,
   "title_cell": "Table of Contents",
   "title_sidebar": "Contents",
   "toc_cell": false,
   "toc_position": {
    "height": "calc(100% - 180px)",
    "left": "10px",
    "top": "150px",
    "width": "165px"
   },
   "toc_section_display": true,
   "toc_window_display": false
  }
 },
 "nbformat": 4,
 "nbformat_minor": 5
}
